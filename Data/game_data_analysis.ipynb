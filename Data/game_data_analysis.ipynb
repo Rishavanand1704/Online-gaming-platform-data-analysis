{
 "cells": [
  {
   "cell_type": "markdown",
   "id": "622478b4-108a-4ef1-b13e-c8e376552e35",
   "metadata": {},
   "source": [
    "## Online gaming platform data analysis"
   ]
  },
  {
   "cell_type": "markdown",
   "id": "7c6deea8-75ea-43bb-a462-efb3c84cffe8",
   "metadata": {},
   "source": [
    "ABC is a real-money online gaming company providing multiplayer games such as Ludo. An user can register as a player, \n",
    "deposit money in the platform and play games with other players on the platform. \n",
    "\n",
    "If he/she wins the game then they can withdraw the winning amount while the platform charges a nominal fee for the services.\n",
    " \n",
    "To retain players on the platform, the company ABC gives loyalty points to their players based on their activity on the platform.\n",
    " \n",
    "Loyalty points are calculated on the basis of the number of games played, deposits and withdrawal made on the platform by a particular player."
   ]
  },
  {
   "cell_type": "markdown",
   "id": "7b307bb1-ee42-4013-9426-7bac611fade2",
   "metadata": {},
   "source": [
    "Deposit of money on the platform\t0.01\t0.01 * Deposit Amount\t0.01 * (1000 RS Deposit) = 10 Points\n",
    "\n",
    "Withdrawal of money from the platform\t0.005\t0.005 * Withdrawal Amount\t0.005 * (500 Rs Withdrawal) = 2.5 Points\n",
    "\n",
    "How many more times did a player do deposit than withdrawal\t0.001\t0.001 * maximum of (#deposit - #windrawal) or 0\t\"0.001 * max((5-3, 0))\n",
    "= 0.001 * 2\n",
    "= 0.002 points\n",
    "\n",
    "where number of deposit = 5\n",
    "and number of withdrawal = 3\"\t\t\t\t\t\t\t\n",
    "Number of games played\t0.2\t0.2 *Number of Games Played\t0.2 * (50 Total Games Played) = 10 Points\t\t\t\t\t\t\t\n",
    "\t\t\t\t\t\t\t\t\t\t\n",
    "\"Final Loyalty Point Formula\n",
    "Loyalty Point = (0.01 * deposit) + (0.005 * Withdrawal amount) + (0.001 * (maximum of (#deposit - #withdrawal) or 0)) + (0.2 * Number of games played)\n",
    "\n",
    "At the end of each month total loyalty points are alloted to all the players. Out of which the top 50 players are provided cash benefits.\""
   ]
  },
  {
   "cell_type": "markdown",
   "id": "aa13ff29-f578-4c58-89a1-f1dcaa702358",
   "metadata": {},
   "source": [
    "### Importing libraries"
   ]
  },
  {
   "cell_type": "code",
   "execution_count": 5,
   "id": "1b80b5a1-6fbc-4f05-94fb-8c25e51dcb96",
   "metadata": {},
   "outputs": [],
   "source": [
    "import pandas as pd\n",
    "import numpy as np\n",
    "import seaborn as sns\n",
    "import matplotlib.pyplot as plt\n",
    "import warnings\n",
    "warnings.filterwarnings('ignore')"
   ]
  },
  {
   "cell_type": "markdown",
   "id": "2a54cfca-7df6-4f4f-a83a-501bb350923c",
   "metadata": {},
   "source": [
    "### Importing the dataset and exploring"
   ]
  },
  {
   "cell_type": "code",
   "execution_count": 7,
   "id": "77dc749b-61a6-4f34-9863-10b13fec734a",
   "metadata": {},
   "outputs": [],
   "source": [
    "gm = pd.read_csv('C:/Users/anand/data projects/gameplay.csv')"
   ]
  },
  {
   "cell_type": "code",
   "execution_count": 8,
   "id": "b913b1e1-e453-4fe6-bab7-b43dada0eb10",
   "metadata": {
    "scrolled": true
   },
   "outputs": [
    {
     "data": {
      "text/html": [
       "<div>\n",
       "<style scoped>\n",
       "    .dataframe tbody tr th:only-of-type {\n",
       "        vertical-align: middle;\n",
       "    }\n",
       "\n",
       "    .dataframe tbody tr th {\n",
       "        vertical-align: top;\n",
       "    }\n",
       "\n",
       "    .dataframe thead th {\n",
       "        text-align: right;\n",
       "    }\n",
       "</style>\n",
       "<table border=\"1\" class=\"dataframe\">\n",
       "  <thead>\n",
       "    <tr style=\"text-align: right;\">\n",
       "      <th></th>\n",
       "      <th>User_ID</th>\n",
       "      <th>Games_Played</th>\n",
       "      <th>time</th>\n",
       "      <th>Date</th>\n",
       "    </tr>\n",
       "  </thead>\n",
       "  <tbody>\n",
       "    <tr>\n",
       "      <th>0</th>\n",
       "      <td>851</td>\n",
       "      <td>1</td>\n",
       "      <td>00:00:00</td>\n",
       "      <td>01-10-2022</td>\n",
       "    </tr>\n",
       "    <tr>\n",
       "      <th>1</th>\n",
       "      <td>717</td>\n",
       "      <td>1</td>\n",
       "      <td>00:00:00</td>\n",
       "      <td>01-10-2022</td>\n",
       "    </tr>\n",
       "    <tr>\n",
       "      <th>2</th>\n",
       "      <td>456</td>\n",
       "      <td>1</td>\n",
       "      <td>00:00:00</td>\n",
       "      <td>01-10-2022</td>\n",
       "    </tr>\n",
       "    <tr>\n",
       "      <th>3</th>\n",
       "      <td>424</td>\n",
       "      <td>1</td>\n",
       "      <td>00:00:00</td>\n",
       "      <td>01-10-2022</td>\n",
       "    </tr>\n",
       "    <tr>\n",
       "      <th>4</th>\n",
       "      <td>845</td>\n",
       "      <td>1</td>\n",
       "      <td>00:00:00</td>\n",
       "      <td>01-10-2022</td>\n",
       "    </tr>\n",
       "    <tr>\n",
       "      <th>...</th>\n",
       "      <td>...</td>\n",
       "      <td>...</td>\n",
       "      <td>...</td>\n",
       "      <td>...</td>\n",
       "    </tr>\n",
       "    <tr>\n",
       "      <th>355261</th>\n",
       "      <td>658</td>\n",
       "      <td>1</td>\n",
       "      <td>23:59:00</td>\n",
       "      <td>31-10-2022</td>\n",
       "    </tr>\n",
       "    <tr>\n",
       "      <th>355262</th>\n",
       "      <td>582</td>\n",
       "      <td>1</td>\n",
       "      <td>23:59:00</td>\n",
       "      <td>31-10-2022</td>\n",
       "    </tr>\n",
       "    <tr>\n",
       "      <th>355263</th>\n",
       "      <td>272</td>\n",
       "      <td>1</td>\n",
       "      <td>23:59:00</td>\n",
       "      <td>31-10-2022</td>\n",
       "    </tr>\n",
       "    <tr>\n",
       "      <th>355264</th>\n",
       "      <td>563</td>\n",
       "      <td>1</td>\n",
       "      <td>23:59:00</td>\n",
       "      <td>31-10-2022</td>\n",
       "    </tr>\n",
       "    <tr>\n",
       "      <th>355265</th>\n",
       "      <td>289</td>\n",
       "      <td>1</td>\n",
       "      <td>23:59:00</td>\n",
       "      <td>31-10-2022</td>\n",
       "    </tr>\n",
       "  </tbody>\n",
       "</table>\n",
       "<p>355266 rows × 4 columns</p>\n",
       "</div>"
      ],
      "text/plain": [
       "        User_ID  Games_Played      time        Date\n",
       "0           851             1  00:00:00  01-10-2022\n",
       "1           717             1  00:00:00  01-10-2022\n",
       "2           456             1  00:00:00  01-10-2022\n",
       "3           424             1  00:00:00  01-10-2022\n",
       "4           845             1  00:00:00  01-10-2022\n",
       "...         ...           ...       ...         ...\n",
       "355261      658             1  23:59:00  31-10-2022\n",
       "355262      582             1  23:59:00  31-10-2022\n",
       "355263      272             1  23:59:00  31-10-2022\n",
       "355264      563             1  23:59:00  31-10-2022\n",
       "355265      289             1  23:59:00  31-10-2022\n",
       "\n",
       "[355266 rows x 4 columns]"
      ]
     },
     "execution_count": 8,
     "metadata": {},
     "output_type": "execute_result"
    }
   ],
   "source": [
    "gm"
   ]
  },
  {
   "cell_type": "code",
   "execution_count": 9,
   "id": "f9c618ef-5747-4be9-aeeb-88092cca5006",
   "metadata": {},
   "outputs": [],
   "source": [
    "gm = gm.rename(columns={'User_ID': 'User_Id'})"
   ]
  },
  {
   "cell_type": "code",
   "execution_count": 10,
   "id": "c126baf4-0ca7-4011-a18f-a401d1f0219d",
   "metadata": {},
   "outputs": [
    {
     "name": "stdout",
     "output_type": "stream",
     "text": [
      "<class 'pandas.core.frame.DataFrame'>\n",
      "RangeIndex: 355266 entries, 0 to 355265\n",
      "Data columns (total 4 columns):\n",
      " #   Column        Non-Null Count   Dtype \n",
      "---  ------        --------------   ----- \n",
      " 0   User_Id       355266 non-null  int64 \n",
      " 1   Games_Played  355266 non-null  int64 \n",
      " 2   time          355266 non-null  object\n",
      " 3   Date          355266 non-null  object\n",
      "dtypes: int64(2), object(2)\n",
      "memory usage: 10.8+ MB\n"
     ]
    }
   ],
   "source": [
    "gm.info()"
   ]
  },
  {
   "cell_type": "code",
   "execution_count": 11,
   "id": "24d1fefb-7048-4ccf-85ad-2acba659a4eb",
   "metadata": {
    "scrolled": true
   },
   "outputs": [
    {
     "data": {
      "text/plain": [
       "User_Id         0\n",
       "Games_Played    0\n",
       "time            0\n",
       "Date            0\n",
       "dtype: int64"
      ]
     },
     "execution_count": 11,
     "metadata": {},
     "output_type": "execute_result"
    }
   ],
   "source": [
    "gm.isna().sum()"
   ]
  },
  {
   "cell_type": "code",
   "execution_count": 12,
   "id": "fb973a7b-ec15-46fb-8437-9eb2c2d5948a",
   "metadata": {},
   "outputs": [
    {
     "data": {
      "text/plain": [
       "(355266, 4)"
      ]
     },
     "execution_count": 12,
     "metadata": {},
     "output_type": "execute_result"
    }
   ],
   "source": [
    "gm.shape"
   ]
  },
  {
   "cell_type": "code",
   "execution_count": 13,
   "id": "ae578c46-05e1-4dab-b8d8-f2909da4f765",
   "metadata": {},
   "outputs": [
    {
     "data": {
      "text/plain": [
       "User_Id         1000\n",
       "Games_Played       2\n",
       "time            1440\n",
       "Date              31\n",
       "dtype: int64"
      ]
     },
     "execution_count": 13,
     "metadata": {},
     "output_type": "execute_result"
    }
   ],
   "source": [
    "gm.nunique()"
   ]
  },
  {
   "cell_type": "code",
   "execution_count": 14,
   "id": "28b14589-0074-4894-ae6a-f43fde75c79a",
   "metadata": {},
   "outputs": [
    {
     "data": {
      "text/plain": [
       "User_Id          int64\n",
       "Games_Played     int64\n",
       "time            object\n",
       "Date            object\n",
       "dtype: object"
      ]
     },
     "execution_count": 14,
     "metadata": {},
     "output_type": "execute_result"
    }
   ],
   "source": [
    "gm.dtypes"
   ]
  },
  {
   "cell_type": "code",
   "execution_count": 15,
   "id": "02d57bcb-801b-4a0a-8ad4-82a1735d173c",
   "metadata": {},
   "outputs": [],
   "source": [
    "dp = pd.read_csv('C:/Users/anand/data projects/deposit_data.csv')"
   ]
  },
  {
   "cell_type": "code",
   "execution_count": 16,
   "id": "8bfc2469-ceda-4875-b332-6ba6d2f4a059",
   "metadata": {
    "scrolled": true
   },
   "outputs": [
    {
     "data": {
      "text/html": [
       "<div>\n",
       "<style scoped>\n",
       "    .dataframe tbody tr th:only-of-type {\n",
       "        vertical-align: middle;\n",
       "    }\n",
       "\n",
       "    .dataframe tbody tr th {\n",
       "        vertical-align: top;\n",
       "    }\n",
       "\n",
       "    .dataframe thead th {\n",
       "        text-align: right;\n",
       "    }\n",
       "</style>\n",
       "<table border=\"1\" class=\"dataframe\">\n",
       "  <thead>\n",
       "    <tr style=\"text-align: right;\">\n",
       "      <th></th>\n",
       "      <th>User_Id</th>\n",
       "      <th>Amount</th>\n",
       "      <th>Date</th>\n",
       "      <th>Time</th>\n",
       "    </tr>\n",
       "  </thead>\n",
       "  <tbody>\n",
       "    <tr>\n",
       "      <th>0</th>\n",
       "      <td>357</td>\n",
       "      <td>2000</td>\n",
       "      <td>01-10-2022</td>\n",
       "      <td>00:03:00</td>\n",
       "    </tr>\n",
       "    <tr>\n",
       "      <th>1</th>\n",
       "      <td>776</td>\n",
       "      <td>2500</td>\n",
       "      <td>01-10-2022</td>\n",
       "      <td>00:03:00</td>\n",
       "    </tr>\n",
       "    <tr>\n",
       "      <th>2</th>\n",
       "      <td>492</td>\n",
       "      <td>5000</td>\n",
       "      <td>01-10-2022</td>\n",
       "      <td>00:06:00</td>\n",
       "    </tr>\n",
       "    <tr>\n",
       "      <th>3</th>\n",
       "      <td>803</td>\n",
       "      <td>5000</td>\n",
       "      <td>01-10-2022</td>\n",
       "      <td>00:07:00</td>\n",
       "    </tr>\n",
       "    <tr>\n",
       "      <th>4</th>\n",
       "      <td>875</td>\n",
       "      <td>1500</td>\n",
       "      <td>01-10-2022</td>\n",
       "      <td>00:09:00</td>\n",
       "    </tr>\n",
       "    <tr>\n",
       "      <th>...</th>\n",
       "      <td>...</td>\n",
       "      <td>...</td>\n",
       "      <td>...</td>\n",
       "      <td>...</td>\n",
       "    </tr>\n",
       "    <tr>\n",
       "      <th>17433</th>\n",
       "      <td>654</td>\n",
       "      <td>1200</td>\n",
       "      <td>31-10-2022</td>\n",
       "      <td>23:57:00</td>\n",
       "    </tr>\n",
       "    <tr>\n",
       "      <th>17434</th>\n",
       "      <td>980</td>\n",
       "      <td>200</td>\n",
       "      <td>31-10-2022</td>\n",
       "      <td>23:58:00</td>\n",
       "    </tr>\n",
       "    <tr>\n",
       "      <th>17435</th>\n",
       "      <td>2</td>\n",
       "      <td>40000</td>\n",
       "      <td>31-10-2022</td>\n",
       "      <td>23:58:00</td>\n",
       "    </tr>\n",
       "    <tr>\n",
       "      <th>17436</th>\n",
       "      <td>612</td>\n",
       "      <td>2800</td>\n",
       "      <td>31-10-2022</td>\n",
       "      <td>23:58:00</td>\n",
       "    </tr>\n",
       "    <tr>\n",
       "      <th>17437</th>\n",
       "      <td>786</td>\n",
       "      <td>20000</td>\n",
       "      <td>31-10-2022</td>\n",
       "      <td>23:59:00</td>\n",
       "    </tr>\n",
       "  </tbody>\n",
       "</table>\n",
       "<p>17438 rows × 4 columns</p>\n",
       "</div>"
      ],
      "text/plain": [
       "       User_Id  Amount        Date      Time\n",
       "0          357    2000  01-10-2022  00:03:00\n",
       "1          776    2500  01-10-2022  00:03:00\n",
       "2          492    5000  01-10-2022  00:06:00\n",
       "3          803    5000  01-10-2022  00:07:00\n",
       "4          875    1500  01-10-2022  00:09:00\n",
       "...        ...     ...         ...       ...\n",
       "17433      654    1200  31-10-2022  23:57:00\n",
       "17434      980     200  31-10-2022  23:58:00\n",
       "17435        2   40000  31-10-2022  23:58:00\n",
       "17436      612    2800  31-10-2022  23:58:00\n",
       "17437      786   20000  31-10-2022  23:59:00\n",
       "\n",
       "[17438 rows x 4 columns]"
      ]
     },
     "execution_count": 16,
     "metadata": {},
     "output_type": "execute_result"
    }
   ],
   "source": [
    "dp"
   ]
  },
  {
   "cell_type": "code",
   "execution_count": 17,
   "id": "b9518a9f-954c-4396-bf22-5f8e9c2ca14a",
   "metadata": {},
   "outputs": [
    {
     "name": "stdout",
     "output_type": "stream",
     "text": [
      "<class 'pandas.core.frame.DataFrame'>\n",
      "RangeIndex: 17438 entries, 0 to 17437\n",
      "Data columns (total 4 columns):\n",
      " #   Column   Non-Null Count  Dtype \n",
      "---  ------   --------------  ----- \n",
      " 0   User_Id  17438 non-null  int64 \n",
      " 1   Amount   17438 non-null  int64 \n",
      " 2   Date     17438 non-null  object\n",
      " 3   Time     17438 non-null  object\n",
      "dtypes: int64(2), object(2)\n",
      "memory usage: 545.1+ KB\n"
     ]
    }
   ],
   "source": [
    "dp.info()"
   ]
  },
  {
   "cell_type": "code",
   "execution_count": 18,
   "id": "71ee79f8-cd8d-4e20-a06f-493de4662b73",
   "metadata": {},
   "outputs": [
    {
     "data": {
      "text/plain": [
       "User_Id    0\n",
       "Amount     0\n",
       "Date       0\n",
       "Time       0\n",
       "dtype: int64"
      ]
     },
     "execution_count": 18,
     "metadata": {},
     "output_type": "execute_result"
    }
   ],
   "source": [
    "dp.isna().sum()"
   ]
  },
  {
   "cell_type": "code",
   "execution_count": 19,
   "id": "0c32b8c0-67d8-45cd-b62e-be1b32ebdb58",
   "metadata": {},
   "outputs": [
    {
     "data": {
      "text/html": [
       "<div>\n",
       "<style scoped>\n",
       "    .dataframe tbody tr th:only-of-type {\n",
       "        vertical-align: middle;\n",
       "    }\n",
       "\n",
       "    .dataframe tbody tr th {\n",
       "        vertical-align: top;\n",
       "    }\n",
       "\n",
       "    .dataframe thead th {\n",
       "        text-align: right;\n",
       "    }\n",
       "</style>\n",
       "<table border=\"1\" class=\"dataframe\">\n",
       "  <thead>\n",
       "    <tr style=\"text-align: right;\">\n",
       "      <th></th>\n",
       "      <th>User_Id</th>\n",
       "      <th>Amount</th>\n",
       "      <th>Date</th>\n",
       "      <th>Time</th>\n",
       "    </tr>\n",
       "  </thead>\n",
       "  <tbody>\n",
       "    <tr>\n",
       "      <th>10863</th>\n",
       "      <td>933</td>\n",
       "      <td>501</td>\n",
       "      <td>20-10-2022</td>\n",
       "      <td>00:09:00</td>\n",
       "    </tr>\n",
       "  </tbody>\n",
       "</table>\n",
       "</div>"
      ],
      "text/plain": [
       "       User_Id  Amount        Date      Time\n",
       "10863      933     501  20-10-2022  00:09:00"
      ]
     },
     "execution_count": 19,
     "metadata": {},
     "output_type": "execute_result"
    }
   ],
   "source": [
    "dp[dp.duplicated()]"
   ]
  },
  {
   "cell_type": "code",
   "execution_count": 20,
   "id": "4307230a-ed21-4b12-9c61-ce7b520a69d0",
   "metadata": {},
   "outputs": [],
   "source": [
    "dp = dp.drop_duplicates()"
   ]
  },
  {
   "cell_type": "code",
   "execution_count": 21,
   "id": "dfcd3dfa-9504-43ae-837c-626a52915b6e",
   "metadata": {},
   "outputs": [
    {
     "data": {
      "text/plain": [
       "(17437, 4)"
      ]
     },
     "execution_count": 21,
     "metadata": {},
     "output_type": "execute_result"
    }
   ],
   "source": [
    "dp.shape"
   ]
  },
  {
   "cell_type": "code",
   "execution_count": 22,
   "id": "196c7cac-4763-46a5-9c56-7e26df0b75ad",
   "metadata": {},
   "outputs": [
    {
     "data": {
      "text/plain": [
       "User_Id     915\n",
       "Amount      743\n",
       "Date         31\n",
       "Time       1440\n",
       "dtype: int64"
      ]
     },
     "execution_count": 22,
     "metadata": {},
     "output_type": "execute_result"
    }
   ],
   "source": [
    "dp.nunique()"
   ]
  },
  {
   "cell_type": "code",
   "execution_count": 23,
   "id": "fb147ce6-dfa2-425e-97d3-76d8cd143d7a",
   "metadata": {},
   "outputs": [
    {
     "data": {
      "text/plain": [
       "User_Id     int64\n",
       "Amount      int64\n",
       "Date       object\n",
       "Time       object\n",
       "dtype: object"
      ]
     },
     "execution_count": 23,
     "metadata": {},
     "output_type": "execute_result"
    }
   ],
   "source": [
    "dp.dtypes"
   ]
  },
  {
   "cell_type": "code",
   "execution_count": 24,
   "id": "49656862-24d7-4eeb-b825-fe4ef05b5aab",
   "metadata": {},
   "outputs": [],
   "source": [
    "wd = pd.read_csv('C:/Users/anand/data projects/withdrawal.csv')"
   ]
  },
  {
   "cell_type": "code",
   "execution_count": 25,
   "id": "0d053583-74f6-4e92-aba4-0d9a9bcfb145",
   "metadata": {},
   "outputs": [
    {
     "data": {
      "text/html": [
       "<div>\n",
       "<style scoped>\n",
       "    .dataframe tbody tr th:only-of-type {\n",
       "        vertical-align: middle;\n",
       "    }\n",
       "\n",
       "    .dataframe tbody tr th {\n",
       "        vertical-align: top;\n",
       "    }\n",
       "\n",
       "    .dataframe thead th {\n",
       "        text-align: right;\n",
       "    }\n",
       "</style>\n",
       "<table border=\"1\" class=\"dataframe\">\n",
       "  <thead>\n",
       "    <tr style=\"text-align: right;\">\n",
       "      <th></th>\n",
       "      <th>User_Id</th>\n",
       "      <th>Amount</th>\n",
       "      <th>Date</th>\n",
       "      <th>time</th>\n",
       "    </tr>\n",
       "  </thead>\n",
       "  <tbody>\n",
       "    <tr>\n",
       "      <th>0</th>\n",
       "      <td>190</td>\n",
       "      <td>5872</td>\n",
       "      <td>01-10-2022</td>\n",
       "      <td>00:03:00</td>\n",
       "    </tr>\n",
       "    <tr>\n",
       "      <th>1</th>\n",
       "      <td>159</td>\n",
       "      <td>9540</td>\n",
       "      <td>01-10-2022</td>\n",
       "      <td>00:16:00</td>\n",
       "    </tr>\n",
       "    <tr>\n",
       "      <th>2</th>\n",
       "      <td>164</td>\n",
       "      <td>815</td>\n",
       "      <td>01-10-2022</td>\n",
       "      <td>00:24:00</td>\n",
       "    </tr>\n",
       "    <tr>\n",
       "      <th>3</th>\n",
       "      <td>946</td>\n",
       "      <td>23000</td>\n",
       "      <td>01-10-2022</td>\n",
       "      <td>00:29:00</td>\n",
       "    </tr>\n",
       "    <tr>\n",
       "      <th>4</th>\n",
       "      <td>763</td>\n",
       "      <td>9473</td>\n",
       "      <td>01-10-2022</td>\n",
       "      <td>00:40:00</td>\n",
       "    </tr>\n",
       "  </tbody>\n",
       "</table>\n",
       "</div>"
      ],
      "text/plain": [
       "   User_Id  Amount        Date      time\n",
       "0      190    5872  01-10-2022  00:03:00\n",
       "1      159    9540  01-10-2022  00:16:00\n",
       "2      164     815  01-10-2022  00:24:00\n",
       "3      946   23000  01-10-2022  00:29:00\n",
       "4      763    9473  01-10-2022  00:40:00"
      ]
     },
     "execution_count": 25,
     "metadata": {},
     "output_type": "execute_result"
    }
   ],
   "source": [
    "wd.head()"
   ]
  },
  {
   "cell_type": "code",
   "execution_count": 26,
   "id": "89854ad0-c896-4971-96a5-bff9337d5634",
   "metadata": {},
   "outputs": [
    {
     "data": {
      "text/html": [
       "<div>\n",
       "<style scoped>\n",
       "    .dataframe tbody tr th:only-of-type {\n",
       "        vertical-align: middle;\n",
       "    }\n",
       "\n",
       "    .dataframe tbody tr th {\n",
       "        vertical-align: top;\n",
       "    }\n",
       "\n",
       "    .dataframe thead th {\n",
       "        text-align: right;\n",
       "    }\n",
       "</style>\n",
       "<table border=\"1\" class=\"dataframe\">\n",
       "  <thead>\n",
       "    <tr style=\"text-align: right;\">\n",
       "      <th></th>\n",
       "      <th>User_Id</th>\n",
       "      <th>Amount</th>\n",
       "      <th>Date</th>\n",
       "      <th>time</th>\n",
       "    </tr>\n",
       "  </thead>\n",
       "  <tbody>\n",
       "    <tr>\n",
       "      <th>3561</th>\n",
       "      <td>559</td>\n",
       "      <td>5000</td>\n",
       "      <td>31-10-2022</td>\n",
       "      <td>23:27:00</td>\n",
       "    </tr>\n",
       "    <tr>\n",
       "      <th>3562</th>\n",
       "      <td>407</td>\n",
       "      <td>3000</td>\n",
       "      <td>31-10-2022</td>\n",
       "      <td>23:51:00</td>\n",
       "    </tr>\n",
       "    <tr>\n",
       "      <th>3563</th>\n",
       "      <td>389</td>\n",
       "      <td>14481</td>\n",
       "      <td>31-10-2022</td>\n",
       "      <td>23:56:00</td>\n",
       "    </tr>\n",
       "    <tr>\n",
       "      <th>3564</th>\n",
       "      <td>11</td>\n",
       "      <td>4000</td>\n",
       "      <td>31-10-2022</td>\n",
       "      <td>23:57:00</td>\n",
       "    </tr>\n",
       "    <tr>\n",
       "      <th>3565</th>\n",
       "      <td>112</td>\n",
       "      <td>1604</td>\n",
       "      <td>31-10-2022</td>\n",
       "      <td>23:58:00</td>\n",
       "    </tr>\n",
       "  </tbody>\n",
       "</table>\n",
       "</div>"
      ],
      "text/plain": [
       "      User_Id  Amount        Date      time\n",
       "3561      559    5000  31-10-2022  23:27:00\n",
       "3562      407    3000  31-10-2022  23:51:00\n",
       "3563      389   14481  31-10-2022  23:56:00\n",
       "3564       11    4000  31-10-2022  23:57:00\n",
       "3565      112    1604  31-10-2022  23:58:00"
      ]
     },
     "execution_count": 26,
     "metadata": {},
     "output_type": "execute_result"
    }
   ],
   "source": [
    "wd.tail()"
   ]
  },
  {
   "cell_type": "code",
   "execution_count": 27,
   "id": "e9d4e875-a018-41f6-adcf-5b0ed7eeb379",
   "metadata": {},
   "outputs": [
    {
     "name": "stdout",
     "output_type": "stream",
     "text": [
      "<class 'pandas.core.frame.DataFrame'>\n",
      "RangeIndex: 3566 entries, 0 to 3565\n",
      "Data columns (total 4 columns):\n",
      " #   Column   Non-Null Count  Dtype \n",
      "---  ------   --------------  ----- \n",
      " 0   User_Id  3566 non-null   int64 \n",
      " 1   Amount   3566 non-null   int64 \n",
      " 2   Date     3566 non-null   object\n",
      " 3   time     3566 non-null   object\n",
      "dtypes: int64(2), object(2)\n",
      "memory usage: 111.6+ KB\n"
     ]
    }
   ],
   "source": [
    "wd.info()"
   ]
  },
  {
   "cell_type": "code",
   "execution_count": 28,
   "id": "17ea9a6f-a8f0-4026-bb9b-ed83c93147b7",
   "metadata": {},
   "outputs": [
    {
     "data": {
      "text/plain": [
       "(3566, 4)"
      ]
     },
     "execution_count": 28,
     "metadata": {},
     "output_type": "execute_result"
    }
   ],
   "source": [
    "wd.shape"
   ]
  },
  {
   "cell_type": "code",
   "execution_count": 29,
   "id": "509db2e7-fea0-4af5-8cbb-ec2afc11e6bc",
   "metadata": {},
   "outputs": [
    {
     "data": {
      "text/plain": [
       "User_Id     int64\n",
       "Amount      int64\n",
       "Date       object\n",
       "time       object\n",
       "dtype: object"
      ]
     },
     "execution_count": 29,
     "metadata": {},
     "output_type": "execute_result"
    }
   ],
   "source": [
    "wd.dtypes"
   ]
  },
  {
   "cell_type": "code",
   "execution_count": 30,
   "id": "52fca668-72ef-4e9f-8146-3bba78c4bbe5",
   "metadata": {},
   "outputs": [
    {
     "data": {
      "text/plain": [
       "User_Id    0\n",
       "Amount     0\n",
       "Date       0\n",
       "time       0\n",
       "dtype: int64"
      ]
     },
     "execution_count": 30,
     "metadata": {},
     "output_type": "execute_result"
    }
   ],
   "source": [
    "wd.isna().sum()"
   ]
  },
  {
   "cell_type": "code",
   "execution_count": 31,
   "id": "e88cb09c-d739-4f37-91f1-4dc046300a1a",
   "metadata": {},
   "outputs": [
    {
     "data": {
      "text/html": [
       "<div>\n",
       "<style scoped>\n",
       "    .dataframe tbody tr th:only-of-type {\n",
       "        vertical-align: middle;\n",
       "    }\n",
       "\n",
       "    .dataframe tbody tr th {\n",
       "        vertical-align: top;\n",
       "    }\n",
       "\n",
       "    .dataframe thead th {\n",
       "        text-align: right;\n",
       "    }\n",
       "</style>\n",
       "<table border=\"1\" class=\"dataframe\">\n",
       "  <thead>\n",
       "    <tr style=\"text-align: right;\">\n",
       "      <th></th>\n",
       "      <th>User_Id</th>\n",
       "      <th>Amount</th>\n",
       "      <th>Date</th>\n",
       "      <th>time</th>\n",
       "    </tr>\n",
       "  </thead>\n",
       "  <tbody>\n",
       "  </tbody>\n",
       "</table>\n",
       "</div>"
      ],
      "text/plain": [
       "Empty DataFrame\n",
       "Columns: [User_Id, Amount, Date, time]\n",
       "Index: []"
      ]
     },
     "execution_count": 31,
     "metadata": {},
     "output_type": "execute_result"
    }
   ],
   "source": [
    "wd[wd.duplicated()]"
   ]
  },
  {
   "cell_type": "code",
   "execution_count": 32,
   "id": "59912b87-97a7-4f50-8fe8-f543c7fa0595",
   "metadata": {},
   "outputs": [
    {
     "data": {
      "text/plain": [
       "User_Id     514\n",
       "Amount     1351\n",
       "Date         31\n",
       "time       1324\n",
       "dtype: int64"
      ]
     },
     "execution_count": 32,
     "metadata": {},
     "output_type": "execute_result"
    }
   ],
   "source": [
    "wd.nunique()"
   ]
  },
  {
   "cell_type": "markdown",
   "id": "8c25aacf-60f5-4306-8b96-087b10db4f23",
   "metadata": {},
   "source": [
    "### Part-A Calculating loyalty points\n",
    "\n",
    "On each day, there are 2 slots for each of which the loyalty points are to be calculated:\n",
    "S1 from 12am to 12pm \n",
    "S2 from 12pm to 12am\""
   ]
  },
  {
   "cell_type": "code",
   "execution_count": 34,
   "id": "fb06f467-5ab6-433a-b15c-bf6d506750ce",
   "metadata": {},
   "outputs": [],
   "source": [
    "dp['Date'] = pd.to_datetime(dp['Date'],format='%d-%m-%Y')\n",
    "dp['Time'] = pd.to_datetime(dp['Time'], format='%H:%M:%S').dt.time\n",
    "\n",
    "dp['Datetime'] = pd.to_datetime(dp['Date'].astype(str) + ' ' + dp['Time'].astype(str))\n",
    "\n",
    "dp['slot'] = dp['Datetime'].dt.hour.apply(lambda x: 'S1' if x < 12 else 'S2')\n",
    "\n",
    "dp['Date'] = dp['Datetime'].dt.date\n",
    "\n",
    "deposit_summary = dp.groupby(['User_Id', 'slot', 'Date']).agg(\n",
    "    total_deposit=('Amount', 'sum'),\n",
    "    deposit_count=('Amount', 'size')\n",
    ").reset_index()\n",
    "\n",
    "DP = pd.merge(dp, deposit_summary, on=['User_Id', 'slot', 'Date'], how='left')\n",
    "DP = DP.drop(columns=['Date', 'Time'])"
   ]
  },
  {
   "cell_type": "code",
   "execution_count": 35,
   "id": "9d03ff20-e89a-4315-baf5-3e6571a3dd4b",
   "metadata": {
    "scrolled": true
   },
   "outputs": [
    {
     "data": {
      "text/html": [
       "<div>\n",
       "<style scoped>\n",
       "    .dataframe tbody tr th:only-of-type {\n",
       "        vertical-align: middle;\n",
       "    }\n",
       "\n",
       "    .dataframe tbody tr th {\n",
       "        vertical-align: top;\n",
       "    }\n",
       "\n",
       "    .dataframe thead th {\n",
       "        text-align: right;\n",
       "    }\n",
       "</style>\n",
       "<table border=\"1\" class=\"dataframe\">\n",
       "  <thead>\n",
       "    <tr style=\"text-align: right;\">\n",
       "      <th></th>\n",
       "      <th>User_Id</th>\n",
       "      <th>Amount</th>\n",
       "      <th>Datetime</th>\n",
       "      <th>slot</th>\n",
       "      <th>total_deposit</th>\n",
       "      <th>deposit_count</th>\n",
       "    </tr>\n",
       "  </thead>\n",
       "  <tbody>\n",
       "    <tr>\n",
       "      <th>0</th>\n",
       "      <td>357</td>\n",
       "      <td>2000</td>\n",
       "      <td>2022-10-01 00:03:00</td>\n",
       "      <td>S1</td>\n",
       "      <td>2000</td>\n",
       "      <td>1</td>\n",
       "    </tr>\n",
       "    <tr>\n",
       "      <th>1</th>\n",
       "      <td>776</td>\n",
       "      <td>2500</td>\n",
       "      <td>2022-10-01 00:03:00</td>\n",
       "      <td>S1</td>\n",
       "      <td>8500</td>\n",
       "      <td>2</td>\n",
       "    </tr>\n",
       "    <tr>\n",
       "      <th>2</th>\n",
       "      <td>492</td>\n",
       "      <td>5000</td>\n",
       "      <td>2022-10-01 00:06:00</td>\n",
       "      <td>S1</td>\n",
       "      <td>5000</td>\n",
       "      <td>1</td>\n",
       "    </tr>\n",
       "    <tr>\n",
       "      <th>3</th>\n",
       "      <td>803</td>\n",
       "      <td>5000</td>\n",
       "      <td>2022-10-01 00:07:00</td>\n",
       "      <td>S1</td>\n",
       "      <td>5000</td>\n",
       "      <td>1</td>\n",
       "    </tr>\n",
       "    <tr>\n",
       "      <th>4</th>\n",
       "      <td>875</td>\n",
       "      <td>1500</td>\n",
       "      <td>2022-10-01 00:09:00</td>\n",
       "      <td>S1</td>\n",
       "      <td>1500</td>\n",
       "      <td>1</td>\n",
       "    </tr>\n",
       "  </tbody>\n",
       "</table>\n",
       "</div>"
      ],
      "text/plain": [
       "   User_Id  Amount            Datetime slot  total_deposit  deposit_count\n",
       "0      357    2000 2022-10-01 00:03:00   S1           2000              1\n",
       "1      776    2500 2022-10-01 00:03:00   S1           8500              2\n",
       "2      492    5000 2022-10-01 00:06:00   S1           5000              1\n",
       "3      803    5000 2022-10-01 00:07:00   S1           5000              1\n",
       "4      875    1500 2022-10-01 00:09:00   S1           1500              1"
      ]
     },
     "execution_count": 35,
     "metadata": {},
     "output_type": "execute_result"
    }
   ],
   "source": [
    "DP.head()"
   ]
  },
  {
   "cell_type": "code",
   "execution_count": 36,
   "id": "0f479b51-ddad-47af-bd89-b96d6a00e11f",
   "metadata": {},
   "outputs": [],
   "source": [
    "gm['Date'] = pd.to_datetime(gm['Date'], format='%d-%m-%Y')\n",
    "gm['time'] = pd.to_datetime(gm['time'], format='%H:%M:%S').dt.time\n",
    "\n",
    "gm['Datetime'] = pd.to_datetime(gm['Date'].astype(str) + ' ' + gm['time'].astype(str))\n",
    "\n",
    "gm['slot'] = gm['Datetime'].dt.hour.apply(lambda x: 'S1' if x < 12 else 'S2')\n",
    "\n",
    "gm['Date'] = gm['Datetime'].dt.date\n",
    "\n",
    "total_game_played = gm.groupby(['User_Id', 'slot', 'Date']).agg(\n",
    "    total_game_played=('Games_Played', 'sum')\n",
    ").reset_index()\n",
    "\n",
    "GM = pd.merge(gm, total_game_played, on=['User_Id', 'slot', 'Date'], how='left')\n",
    "GM = GM.drop(columns=['Date', 'time'])"
   ]
  },
  {
   "cell_type": "code",
   "execution_count": 37,
   "id": "3e7a4275-3d9f-4c82-8e00-3cabdcd6b2fa",
   "metadata": {},
   "outputs": [
    {
     "data": {
      "text/html": [
       "<div>\n",
       "<style scoped>\n",
       "    .dataframe tbody tr th:only-of-type {\n",
       "        vertical-align: middle;\n",
       "    }\n",
       "\n",
       "    .dataframe tbody tr th {\n",
       "        vertical-align: top;\n",
       "    }\n",
       "\n",
       "    .dataframe thead th {\n",
       "        text-align: right;\n",
       "    }\n",
       "</style>\n",
       "<table border=\"1\" class=\"dataframe\">\n",
       "  <thead>\n",
       "    <tr style=\"text-align: right;\">\n",
       "      <th></th>\n",
       "      <th>User_Id</th>\n",
       "      <th>Games_Played</th>\n",
       "      <th>Datetime</th>\n",
       "      <th>slot</th>\n",
       "      <th>total_game_played</th>\n",
       "    </tr>\n",
       "  </thead>\n",
       "  <tbody>\n",
       "    <tr>\n",
       "      <th>0</th>\n",
       "      <td>851</td>\n",
       "      <td>1</td>\n",
       "      <td>2022-10-01</td>\n",
       "      <td>S1</td>\n",
       "      <td>17</td>\n",
       "    </tr>\n",
       "    <tr>\n",
       "      <th>1</th>\n",
       "      <td>717</td>\n",
       "      <td>1</td>\n",
       "      <td>2022-10-01</td>\n",
       "      <td>S1</td>\n",
       "      <td>7</td>\n",
       "    </tr>\n",
       "    <tr>\n",
       "      <th>2</th>\n",
       "      <td>456</td>\n",
       "      <td>1</td>\n",
       "      <td>2022-10-01</td>\n",
       "      <td>S1</td>\n",
       "      <td>85</td>\n",
       "    </tr>\n",
       "    <tr>\n",
       "      <th>3</th>\n",
       "      <td>424</td>\n",
       "      <td>1</td>\n",
       "      <td>2022-10-01</td>\n",
       "      <td>S1</td>\n",
       "      <td>8</td>\n",
       "    </tr>\n",
       "    <tr>\n",
       "      <th>4</th>\n",
       "      <td>845</td>\n",
       "      <td>1</td>\n",
       "      <td>2022-10-01</td>\n",
       "      <td>S1</td>\n",
       "      <td>22</td>\n",
       "    </tr>\n",
       "  </tbody>\n",
       "</table>\n",
       "</div>"
      ],
      "text/plain": [
       "   User_Id  Games_Played   Datetime slot  total_game_played\n",
       "0      851             1 2022-10-01   S1                 17\n",
       "1      717             1 2022-10-01   S1                  7\n",
       "2      456             1 2022-10-01   S1                 85\n",
       "3      424             1 2022-10-01   S1                  8\n",
       "4      845             1 2022-10-01   S1                 22"
      ]
     },
     "execution_count": 37,
     "metadata": {},
     "output_type": "execute_result"
    }
   ],
   "source": [
    "GM.head()"
   ]
  },
  {
   "cell_type": "code",
   "execution_count": 38,
   "id": "1a12698b-7b99-4387-bafe-661254e366de",
   "metadata": {
    "scrolled": true
   },
   "outputs": [],
   "source": [
    "wd['Date'] = pd.to_datetime(wd['Date'], format='%d-%m-%Y')\n",
    "wd['time'] = pd.to_datetime(wd['time'], format='%H:%M:%S').dt.time\n",
    "\n",
    "wd['Datetime'] = pd.to_datetime(wd['Date'].astype(str) + ' ' + wd['time'].astype(str))\n",
    "\n",
    "wd['slot'] = wd['Datetime'].dt.hour.apply(lambda x: 'S1' if x < 12 else 'S2')\n",
    "\n",
    "wd['Date'] = wd['Datetime'].dt.date\n",
    "\n",
    "withdrawl_summary = wd.groupby(['User_Id', 'slot', 'Date']).agg(\n",
    "    total_withdrawlt=('Amount', 'sum'),\n",
    "    withdrawl_count=('Amount', 'size')\n",
    ").reset_index()\n",
    "\n",
    "WD = pd.merge(wd, withdrawl_summary, on=['User_Id', 'slot', 'Date'], how='left')\n",
    "WD = WD.drop(columns=['Date', 'time'])"
   ]
  },
  {
   "cell_type": "code",
   "execution_count": 39,
   "id": "05de6536-bafc-4679-aa34-4c8356a6bb40",
   "metadata": {
    "scrolled": true
   },
   "outputs": [
    {
     "data": {
      "text/html": [
       "<div>\n",
       "<style scoped>\n",
       "    .dataframe tbody tr th:only-of-type {\n",
       "        vertical-align: middle;\n",
       "    }\n",
       "\n",
       "    .dataframe tbody tr th {\n",
       "        vertical-align: top;\n",
       "    }\n",
       "\n",
       "    .dataframe thead th {\n",
       "        text-align: right;\n",
       "    }\n",
       "</style>\n",
       "<table border=\"1\" class=\"dataframe\">\n",
       "  <thead>\n",
       "    <tr style=\"text-align: right;\">\n",
       "      <th></th>\n",
       "      <th>User_Id</th>\n",
       "      <th>Amount</th>\n",
       "      <th>Datetime</th>\n",
       "      <th>slot</th>\n",
       "      <th>total_withdrawlt</th>\n",
       "      <th>withdrawl_count</th>\n",
       "    </tr>\n",
       "  </thead>\n",
       "  <tbody>\n",
       "    <tr>\n",
       "      <th>0</th>\n",
       "      <td>190</td>\n",
       "      <td>5872</td>\n",
       "      <td>2022-10-01 00:03:00</td>\n",
       "      <td>S1</td>\n",
       "      <td>5872</td>\n",
       "      <td>1</td>\n",
       "    </tr>\n",
       "    <tr>\n",
       "      <th>1</th>\n",
       "      <td>159</td>\n",
       "      <td>9540</td>\n",
       "      <td>2022-10-01 00:16:00</td>\n",
       "      <td>S1</td>\n",
       "      <td>9540</td>\n",
       "      <td>1</td>\n",
       "    </tr>\n",
       "    <tr>\n",
       "      <th>2</th>\n",
       "      <td>164</td>\n",
       "      <td>815</td>\n",
       "      <td>2022-10-01 00:24:00</td>\n",
       "      <td>S1</td>\n",
       "      <td>6015</td>\n",
       "      <td>2</td>\n",
       "    </tr>\n",
       "    <tr>\n",
       "      <th>3</th>\n",
       "      <td>946</td>\n",
       "      <td>23000</td>\n",
       "      <td>2022-10-01 00:29:00</td>\n",
       "      <td>S1</td>\n",
       "      <td>97000</td>\n",
       "      <td>3</td>\n",
       "    </tr>\n",
       "    <tr>\n",
       "      <th>4</th>\n",
       "      <td>763</td>\n",
       "      <td>9473</td>\n",
       "      <td>2022-10-01 00:40:00</td>\n",
       "      <td>S1</td>\n",
       "      <td>9473</td>\n",
       "      <td>1</td>\n",
       "    </tr>\n",
       "  </tbody>\n",
       "</table>\n",
       "</div>"
      ],
      "text/plain": [
       "   User_Id  Amount            Datetime slot  total_withdrawlt  withdrawl_count\n",
       "0      190    5872 2022-10-01 00:03:00   S1              5872                1\n",
       "1      159    9540 2022-10-01 00:16:00   S1              9540                1\n",
       "2      164     815 2022-10-01 00:24:00   S1              6015                2\n",
       "3      946   23000 2022-10-01 00:29:00   S1             97000                3\n",
       "4      763    9473 2022-10-01 00:40:00   S1              9473                1"
      ]
     },
     "execution_count": 39,
     "metadata": {},
     "output_type": "execute_result"
    }
   ],
   "source": [
    "WD.head()"
   ]
  },
  {
   "cell_type": "markdown",
   "id": "4c280d3e-3f3b-4ad3-b9d4-13c2ba2ced8f",
   "metadata": {},
   "source": [
    "### Calculating loyalty points"
   ]
  },
  {
   "cell_type": "code",
   "execution_count": 41,
   "id": "c00765a1-fd41-490f-8a47-e5f1054cb89d",
   "metadata": {},
   "outputs": [],
   "source": [
    "merged_data = pd.merge(DP, WD, \n",
    "                       on=['User_Id', 'Datetime', 'slot'], how='left')\n",
    "\n",
    "merged_data = pd.merge(merged_data, GM, \n",
    "                       on=['User_Id', 'Datetime', 'slot'], how='left')\n",
    "\n",
    "# Calculate loyalty points based on the given formula\n",
    "merged_data['loyalty_points'] = (\n",
    "    0.01 * merged_data['total_deposit'].fillna(0) +\n",
    "    0.005 * merged_data['total_withdrawlt'].fillna(0) +\n",
    "    0.001 * (merged_data['deposit_count'].fillna(0) - merged_data['total_withdrawlt'].fillna(0)).clip(lower=0) +\n",
    "    0.2 * merged_data['total_game_played'].fillna(0)\n",
    ")\n",
    "loyalty_points = merged_data[['User_Id', 'Datetime', 'slot', 'loyalty_points']]\n"
   ]
  },
  {
   "cell_type": "code",
   "execution_count": 42,
   "id": "801af4b5-4506-441a-bf1f-fd9944a7c1e5",
   "metadata": {
    "scrolled": true
   },
   "outputs": [
    {
     "data": {
      "text/html": [
       "<div>\n",
       "<style scoped>\n",
       "    .dataframe tbody tr th:only-of-type {\n",
       "        vertical-align: middle;\n",
       "    }\n",
       "\n",
       "    .dataframe tbody tr th {\n",
       "        vertical-align: top;\n",
       "    }\n",
       "\n",
       "    .dataframe thead th {\n",
       "        text-align: right;\n",
       "    }\n",
       "</style>\n",
       "<table border=\"1\" class=\"dataframe\">\n",
       "  <thead>\n",
       "    <tr style=\"text-align: right;\">\n",
       "      <th></th>\n",
       "      <th>User_Id</th>\n",
       "      <th>Datetime</th>\n",
       "      <th>slot</th>\n",
       "      <th>loyalty_points</th>\n",
       "    </tr>\n",
       "  </thead>\n",
       "  <tbody>\n",
       "    <tr>\n",
       "      <th>0</th>\n",
       "      <td>357</td>\n",
       "      <td>2022-10-01 00:03:00</td>\n",
       "      <td>S1</td>\n",
       "      <td>20.001</td>\n",
       "    </tr>\n",
       "    <tr>\n",
       "      <th>1</th>\n",
       "      <td>776</td>\n",
       "      <td>2022-10-01 00:03:00</td>\n",
       "      <td>S1</td>\n",
       "      <td>85.002</td>\n",
       "    </tr>\n",
       "    <tr>\n",
       "      <th>2</th>\n",
       "      <td>492</td>\n",
       "      <td>2022-10-01 00:06:00</td>\n",
       "      <td>S1</td>\n",
       "      <td>50.001</td>\n",
       "    </tr>\n",
       "    <tr>\n",
       "      <th>3</th>\n",
       "      <td>803</td>\n",
       "      <td>2022-10-01 00:07:00</td>\n",
       "      <td>S1</td>\n",
       "      <td>50.001</td>\n",
       "    </tr>\n",
       "    <tr>\n",
       "      <th>4</th>\n",
       "      <td>875</td>\n",
       "      <td>2022-10-01 00:09:00</td>\n",
       "      <td>S1</td>\n",
       "      <td>15.001</td>\n",
       "    </tr>\n",
       "    <tr>\n",
       "      <th>...</th>\n",
       "      <td>...</td>\n",
       "      <td>...</td>\n",
       "      <td>...</td>\n",
       "      <td>...</td>\n",
       "    </tr>\n",
       "    <tr>\n",
       "      <th>17440</th>\n",
       "      <td>654</td>\n",
       "      <td>2022-10-31 23:57:00</td>\n",
       "      <td>S2</td>\n",
       "      <td>33.002</td>\n",
       "    </tr>\n",
       "    <tr>\n",
       "      <th>17441</th>\n",
       "      <td>980</td>\n",
       "      <td>2022-10-31 23:58:00</td>\n",
       "      <td>S2</td>\n",
       "      <td>57.003</td>\n",
       "    </tr>\n",
       "    <tr>\n",
       "      <th>17442</th>\n",
       "      <td>2</td>\n",
       "      <td>2022-10-31 23:58:00</td>\n",
       "      <td>S2</td>\n",
       "      <td>800.002</td>\n",
       "    </tr>\n",
       "    <tr>\n",
       "      <th>17443</th>\n",
       "      <td>612</td>\n",
       "      <td>2022-10-31 23:58:00</td>\n",
       "      <td>S2</td>\n",
       "      <td>28.001</td>\n",
       "    </tr>\n",
       "    <tr>\n",
       "      <th>17444</th>\n",
       "      <td>786</td>\n",
       "      <td>2022-10-31 23:59:00</td>\n",
       "      <td>S2</td>\n",
       "      <td>200.001</td>\n",
       "    </tr>\n",
       "  </tbody>\n",
       "</table>\n",
       "<p>17445 rows × 4 columns</p>\n",
       "</div>"
      ],
      "text/plain": [
       "       User_Id            Datetime slot  loyalty_points\n",
       "0          357 2022-10-01 00:03:00   S1          20.001\n",
       "1          776 2022-10-01 00:03:00   S1          85.002\n",
       "2          492 2022-10-01 00:06:00   S1          50.001\n",
       "3          803 2022-10-01 00:07:00   S1          50.001\n",
       "4          875 2022-10-01 00:09:00   S1          15.001\n",
       "...        ...                 ...  ...             ...\n",
       "17440      654 2022-10-31 23:57:00   S2          33.002\n",
       "17441      980 2022-10-31 23:58:00   S2          57.003\n",
       "17442        2 2022-10-31 23:58:00   S2         800.002\n",
       "17443      612 2022-10-31 23:58:00   S2          28.001\n",
       "17444      786 2022-10-31 23:59:00   S2         200.001\n",
       "\n",
       "[17445 rows x 4 columns]"
      ]
     },
     "execution_count": 42,
     "metadata": {},
     "output_type": "execute_result"
    }
   ],
   "source": [
    "loyalty_points"
   ]
  },
  {
   "cell_type": "code",
   "execution_count": 43,
   "id": "3880e456-c1d3-4fa5-b660-7405e3f2b32b",
   "metadata": {},
   "outputs": [
    {
     "data": {
      "image/png": "[encoded data removed]",
      "text/plain": [
       "<Figure size 640x480 with 1 Axes>"
      ]
     },
     "metadata": {},
     "output_type": "display_data"
    }
   ],
   "source": [
    "def plot_donut_chart(data: pd.DataFrame):\n",
    "    slot_loyalty_points = data.groupby('slot')['loyalty_points'].sum()\n",
    "    plt.pie(\n",
    "        slot_loyalty_points,\n",
    "        labels=['S1', 'S2'],\n",
    "        colors=['#66b3ff', '#99ff99'],\n",
    "        startangle=50,\n",
    "        shadow=True,\n",
    "        radius=2,\n",
    "        explode=(0, 0.2),\n",
    "        autopct='%1.2f%%',\n",
    "        pctdistance=0.75\n",
    "    )\n",
    "    circle = plt.Circle((0, 0), 1, color='white')\n",
    "    plt.gca().add_artist(circle)\n",
    "    plt.title(\"Total Loyalty Points by Slot (S1 vs S2)\", y = 1.4)\n",
    "    plt.show()\n",
    "\n",
    "plot_donut_chart(loyalty_points)"
   ]
  },
  {
   "cell_type": "markdown",
   "id": "dcfb6cfb-7aa2-469c-a353-3f82faf22a7e",
   "metadata": {},
   "source": [
    "### 1. Playerwise Loyalty points earned by Players in the following slots:-\n",
    "a. 2nd October Slot S1\n",
    "    "
   ]
  },
  {
   "cell_type": "code",
   "execution_count": 45,
   "id": "c4557661-b57f-4a88-9e19-c4cf613c59bc",
   "metadata": {},
   "outputs": [
    {
     "data": {
      "text/html": [
       "<div>\n",
       "<style scoped>\n",
       "    .dataframe tbody tr th:only-of-type {\n",
       "        vertical-align: middle;\n",
       "    }\n",
       "\n",
       "    .dataframe tbody tr th {\n",
       "        vertical-align: top;\n",
       "    }\n",
       "\n",
       "    .dataframe thead th {\n",
       "        text-align: right;\n",
       "    }\n",
       "</style>\n",
       "<table border=\"1\" class=\"dataframe\">\n",
       "  <thead>\n",
       "    <tr style=\"text-align: right;\">\n",
       "      <th></th>\n",
       "      <th>User_Id</th>\n",
       "      <th>slot</th>\n",
       "      <th>loyalty_points</th>\n",
       "    </tr>\n",
       "  </thead>\n",
       "  <tbody>\n",
       "    <tr>\n",
       "      <th>42</th>\n",
       "      <td>173</td>\n",
       "      <td>S1</td>\n",
       "      <td>2084.016</td>\n",
       "    </tr>\n",
       "    <tr>\n",
       "      <th>156</th>\n",
       "      <td>740</td>\n",
       "      <td>S1</td>\n",
       "      <td>1275.009</td>\n",
       "    </tr>\n",
       "    <tr>\n",
       "      <th>91</th>\n",
       "      <td>446</td>\n",
       "      <td>S1</td>\n",
       "      <td>1100.004</td>\n",
       "    </tr>\n",
       "    <tr>\n",
       "      <th>135</th>\n",
       "      <td>672</td>\n",
       "      <td>S1</td>\n",
       "      <td>1000.001</td>\n",
       "    </tr>\n",
       "    <tr>\n",
       "      <th>46</th>\n",
       "      <td>193</td>\n",
       "      <td>S1</td>\n",
       "      <td>880.016</td>\n",
       "    </tr>\n",
       "  </tbody>\n",
       "</table>\n",
       "</div>"
      ],
      "text/plain": [
       "     User_Id slot  loyalty_points\n",
       "42       173   S1        2084.016\n",
       "156      740   S1        1275.009\n",
       "91       446   S1        1100.004\n",
       "135      672   S1        1000.001\n",
       "46       193   S1         880.016"
      ]
     },
     "execution_count": 45,
     "metadata": {},
     "output_type": "execute_result"
    }
   ],
   "source": [
    "LP = pd.DataFrame(loyalty_points)\n",
    "\n",
    "_2nd_October_Slot_S1 = LP[(LP['Datetime'].dt.date == pd.to_datetime('2022-10-02').date()) & (LP['slot'] == 'S1')]\n",
    "\n",
    "_2nd_October_Slot_S1 = _2nd_October_Slot_S1[['User_Id', 'Datetime', 'slot', 'loyalty_points']]\n",
    "\n",
    "grouped_2nd_October_Slot_S1 = _2nd_October_Slot_S1.groupby(['User_Id', 'slot'])['loyalty_points'].sum().reset_index()\n",
    "\n",
    "sorted_2nd_October_Slot_S1 = grouped_2nd_October_Slot_S1.sort_values(by='loyalty_points', ascending=False)\n",
    "\n",
    "sorted_2nd_October_Slot_S1.head(5)"
   ]
  },
  {
   "cell_type": "code",
   "execution_count": 46,
   "id": "d3d93c2e-de01-44f2-a7ed-3e6c337605c1",
   "metadata": {},
   "outputs": [
    {
     "data": {
      "image/png": "[encoded data removed]",
      "text/plain": [
       "<Figure size 400x400 with 1 Axes>"
      ]
     },
     "metadata": {},
     "output_type": "display_data"
    }
   ],
   "source": [
    "def _2nd_October_Slot_S1(data: pd.DataFrame, palette='husl'):\n",
    "    user_loyalty_points = data.groupby('User_Id')['loyalty_points'].sum()\n",
    "    top_5_users = user_loyalty_points.nlargest(5)\n",
    "    top_5_data = data[data['User_Id'].isin(top_5_users.index)]\n",
    "    plt.figure(figsize=(4, 4))\n",
    "    sns.barplot(x='User_Id', y='loyalty_points', data=top_5_data, palette=palette, estimator=sum)\n",
    "    plt.title('Top 5 Users with Most Loyalty Points on 2nd October Slot S1', y=1)\n",
    "    plt.xlabel('User_Id')\n",
    "    plt.ylabel('Total Loyalty Points')\n",
    "    plt.show()\n",
    "_2nd_October_Slot_S1(sorted_2nd_October_Slot_S1)"
   ]
  },
  {
   "cell_type": "markdown",
   "id": "d0a253c9-0660-434c-a6fd-0c5b335224c1",
   "metadata": {},
   "source": [
    "b. 16th October Slot S2"
   ]
  },
  {
   "cell_type": "code",
   "execution_count": 48,
   "id": "3a1e46cd-7126-4233-8b76-2be81749c13a",
   "metadata": {
    "scrolled": true
   },
   "outputs": [
    {
     "data": {
      "text/html": [
       "<div>\n",
       "<style scoped>\n",
       "    .dataframe tbody tr th:only-of-type {\n",
       "        vertical-align: middle;\n",
       "    }\n",
       "\n",
       "    .dataframe tbody tr th {\n",
       "        vertical-align: top;\n",
       "    }\n",
       "\n",
       "    .dataframe thead th {\n",
       "        text-align: right;\n",
       "    }\n",
       "</style>\n",
       "<table border=\"1\" class=\"dataframe\">\n",
       "  <thead>\n",
       "    <tr style=\"text-align: right;\">\n",
       "      <th></th>\n",
       "      <th>User_Id</th>\n",
       "      <th>slot</th>\n",
       "      <th>loyalty_points</th>\n",
       "    </tr>\n",
       "  </thead>\n",
       "  <tbody>\n",
       "    <tr>\n",
       "      <th>6</th>\n",
       "      <td>28</td>\n",
       "      <td>S2</td>\n",
       "      <td>3600.016</td>\n",
       "    </tr>\n",
       "    <tr>\n",
       "      <th>106</th>\n",
       "      <td>566</td>\n",
       "      <td>S2</td>\n",
       "      <td>2640.009</td>\n",
       "    </tr>\n",
       "    <tr>\n",
       "      <th>16</th>\n",
       "      <td>99</td>\n",
       "      <td>S2</td>\n",
       "      <td>1960.004</td>\n",
       "    </tr>\n",
       "    <tr>\n",
       "      <th>32</th>\n",
       "      <td>212</td>\n",
       "      <td>S2</td>\n",
       "      <td>999.991</td>\n",
       "    </tr>\n",
       "    <tr>\n",
       "      <th>84</th>\n",
       "      <td>455</td>\n",
       "      <td>S2</td>\n",
       "      <td>800.004</td>\n",
       "    </tr>\n",
       "  </tbody>\n",
       "</table>\n",
       "</div>"
      ],
      "text/plain": [
       "     User_Id slot  loyalty_points\n",
       "6         28   S2        3600.016\n",
       "106      566   S2        2640.009\n",
       "16        99   S2        1960.004\n",
       "32       212   S2         999.991\n",
       "84       455   S2         800.004"
      ]
     },
     "execution_count": 48,
     "metadata": {},
     "output_type": "execute_result"
    }
   ],
   "source": [
    "_16th_October_Slot_S2 = LP[(LP['Datetime'].dt.date == pd.to_datetime('2022-10-16').date()) & (LP['slot'] == 'S2')]\n",
    "\n",
    "_16th_October_Slot_S2 = _16th_October_Slot_S2[['User_Id', 'Datetime', 'slot', 'loyalty_points']]\n",
    "\n",
    "grouped_16th_October_Slot_S2 = _16th_October_Slot_S2.groupby(['User_Id', 'slot'])['loyalty_points'].sum().reset_index()\n",
    "\n",
    "sorted_16th_October_Slot_S2 = grouped_16th_October_Slot_S2.sort_values(by='loyalty_points', ascending=False)\n",
    "\n",
    "sorted_16th_October_Slot_S2.head(5)"
   ]
  },
  {
   "cell_type": "code",
   "execution_count": 49,
   "id": "45577033-38a3-416a-9a43-30952f7f42d3",
   "metadata": {},
   "outputs": [
    {
     "data": {
      "image/png": "[encoded data removed]",
      "text/plain": [
       "<Figure size 400x400 with 1 Axes>"
      ]
     },
     "metadata": {},
     "output_type": "display_data"
    }
   ],
   "source": [
    "def _16th_October_Slot_S2(data: pd.DataFrame, palette='husl'):\n",
    "    user_loyalty_points = data.groupby('User_Id')['loyalty_points'].sum()\n",
    "    top_5_users = user_loyalty_points.nlargest(5)\n",
    "    top_5_data = data[data['User_Id'].isin(top_5_users.index)]\n",
    "    plt.figure(figsize=(4, 4))\n",
    "    sns.barplot(x='User_Id', y='loyalty_points', data=top_5_data, palette=palette, estimator=sum)\n",
    "    plt.title('Top 5 Users with Most Loyalty Points on 16th October Slot S2', y=1)\n",
    "    plt.xlabel('User_Id')\n",
    "    plt.ylabel('Total Loyalty Points')\n",
    "    plt.show()\n",
    "_16th_October_Slot_S2(sorted_16th_October_Slot_S2)"
   ]
  },
  {
   "cell_type": "markdown",
   "id": "e9ca91bd-679e-4d64-99b9-d17c488fa7a5",
   "metadata": {},
   "source": [
    "c. 18th October Slot S1"
   ]
  },
  {
   "cell_type": "code",
   "execution_count": 51,
   "id": "397dbf8e-4b4d-4de7-a5f3-c6d880cc3f32",
   "metadata": {
    "scrolled": true
   },
   "outputs": [
    {
     "data": {
      "text/html": [
       "<div>\n",
       "<style scoped>\n",
       "    .dataframe tbody tr th:only-of-type {\n",
       "        vertical-align: middle;\n",
       "    }\n",
       "\n",
       "    .dataframe tbody tr th {\n",
       "        vertical-align: top;\n",
       "    }\n",
       "\n",
       "    .dataframe thead th {\n",
       "        text-align: right;\n",
       "    }\n",
       "</style>\n",
       "<table border=\"1\" class=\"dataframe\">\n",
       "  <thead>\n",
       "    <tr style=\"text-align: right;\">\n",
       "      <th></th>\n",
       "      <th>User_Id</th>\n",
       "      <th>slot</th>\n",
       "      <th>loyalty_points</th>\n",
       "    </tr>\n",
       "  </thead>\n",
       "  <tbody>\n",
       "    <tr>\n",
       "      <th>61</th>\n",
       "      <td>352</td>\n",
       "      <td>S1</td>\n",
       "      <td>2513.775</td>\n",
       "    </tr>\n",
       "    <tr>\n",
       "      <th>35</th>\n",
       "      <td>208</td>\n",
       "      <td>S1</td>\n",
       "      <td>1700.001</td>\n",
       "    </tr>\n",
       "    <tr>\n",
       "      <th>183</th>\n",
       "      <td>950</td>\n",
       "      <td>S1</td>\n",
       "      <td>1520.016</td>\n",
       "    </tr>\n",
       "    <tr>\n",
       "      <th>45</th>\n",
       "      <td>259</td>\n",
       "      <td>S1</td>\n",
       "      <td>1500.016</td>\n",
       "    </tr>\n",
       "    <tr>\n",
       "      <th>102</th>\n",
       "      <td>547</td>\n",
       "      <td>S1</td>\n",
       "      <td>1215.009</td>\n",
       "    </tr>\n",
       "  </tbody>\n",
       "</table>\n",
       "</div>"
      ],
      "text/plain": [
       "     User_Id slot  loyalty_points\n",
       "61       352   S1        2513.775\n",
       "35       208   S1        1700.001\n",
       "183      950   S1        1520.016\n",
       "45       259   S1        1500.016\n",
       "102      547   S1        1215.009"
      ]
     },
     "execution_count": 51,
     "metadata": {},
     "output_type": "execute_result"
    }
   ],
   "source": [
    "_18th_October_Slot_S1 = LP[(LP['Datetime'].dt.date == pd.to_datetime('2022-10-18').date()) & (LP['slot'] == 'S1')]\n",
    "\n",
    "_18th_October_Slot_S1 = _18th_October_Slot_S1[['User_Id', 'Datetime', 'slot', 'loyalty_points']]\n",
    "\n",
    "grouped_18th_October_Slot_S1 = _18th_October_Slot_S1.groupby(['User_Id', 'slot'])['loyalty_points'].sum().reset_index()\n",
    "\n",
    "sorted_18th_October_Slot_S1 = grouped_18th_October_Slot_S1.sort_values(by='loyalty_points', ascending=False)\n",
    "\n",
    "sorted_18th_October_Slot_S1.head(5)"
   ]
  },
  {
   "cell_type": "code",
   "execution_count": 52,
   "id": "ac342df9-95c4-404d-a626-7fdb19fffcbc",
   "metadata": {},
   "outputs": [
    {
     "data": {
      "image/png": "[encoded data removed]",
      "text/plain": [
       "<Figure size 400x400 with 1 Axes>"
      ]
     },
     "metadata": {},
     "output_type": "display_data"
    }
   ],
   "source": [
    "def _18th_October_Slot_S1(data: pd.DataFrame, palette='husl'):\n",
    "    user_loyalty_points = data.groupby('User_Id')['loyalty_points'].sum()\n",
    "    top_5_users = user_loyalty_points.nlargest(5)\n",
    "    top_5_data = data[data['User_Id'].isin(top_5_users.index)]\n",
    "    plt.figure(figsize=(4, 4))\n",
    "    sns.barplot(x='User_Id', y='loyalty_points', data=top_5_data, palette=palette, estimator=sum)\n",
    "    plt.title('Top 5 Users with Most Loyalty Points on 18th October Slot S1', y=1)\n",
    "    plt.xlabel('User_Id')\n",
    "    plt.ylabel('Total Loyalty Points')\n",
    "    plt.show()\n",
    "_18th_October_Slot_S1(sorted_18th_October_Slot_S1)"
   ]
  },
  {
   "cell_type": "markdown",
   "id": "b3f3a037-b94e-4986-a148-a3e5a9a27d98",
   "metadata": {},
   "source": [
    "d. 26th October Slot S2"
   ]
  },
  {
   "cell_type": "code",
   "execution_count": 54,
   "id": "9f9a9662-4d8c-4e32-b28c-8b962daec677",
   "metadata": {
    "scrolled": true
   },
   "outputs": [
    {
     "data": {
      "text/html": [
       "<div>\n",
       "<style scoped>\n",
       "    .dataframe tbody tr th:only-of-type {\n",
       "        vertical-align: middle;\n",
       "    }\n",
       "\n",
       "    .dataframe tbody tr th {\n",
       "        vertical-align: top;\n",
       "    }\n",
       "\n",
       "    .dataframe thead th {\n",
       "        text-align: right;\n",
       "    }\n",
       "</style>\n",
       "<table border=\"1\" class=\"dataframe\">\n",
       "  <thead>\n",
       "    <tr style=\"text-align: right;\">\n",
       "      <th></th>\n",
       "      <th>User_Id</th>\n",
       "      <th>slot</th>\n",
       "      <th>loyalty_points</th>\n",
       "    </tr>\n",
       "  </thead>\n",
       "  <tbody>\n",
       "    <tr>\n",
       "      <th>105</th>\n",
       "      <td>538</td>\n",
       "      <td>S2</td>\n",
       "      <td>3600.009</td>\n",
       "    </tr>\n",
       "    <tr>\n",
       "      <th>140</th>\n",
       "      <td>714</td>\n",
       "      <td>S2</td>\n",
       "      <td>2000.001</td>\n",
       "    </tr>\n",
       "    <tr>\n",
       "      <th>0</th>\n",
       "      <td>2</td>\n",
       "      <td>S2</td>\n",
       "      <td>1800.004</td>\n",
       "    </tr>\n",
       "    <tr>\n",
       "      <th>171</th>\n",
       "      <td>909</td>\n",
       "      <td>S2</td>\n",
       "      <td>1680.016</td>\n",
       "    </tr>\n",
       "    <tr>\n",
       "      <th>45</th>\n",
       "      <td>238</td>\n",
       "      <td>S2</td>\n",
       "      <td>1644.009</td>\n",
       "    </tr>\n",
       "  </tbody>\n",
       "</table>\n",
       "</div>"
      ],
      "text/plain": [
       "     User_Id slot  loyalty_points\n",
       "105      538   S2        3600.009\n",
       "140      714   S2        2000.001\n",
       "0          2   S2        1800.004\n",
       "171      909   S2        1680.016\n",
       "45       238   S2        1644.009"
      ]
     },
     "execution_count": 54,
     "metadata": {},
     "output_type": "execute_result"
    }
   ],
   "source": [
    "_26th_October_Slot_S2 = LP[(LP['Datetime'].dt.date == pd.to_datetime('2022-10-26').date()) & (LP['slot'] == 'S2')]\n",
    "\n",
    "_26th_October_Slot_S2 = _26th_October_Slot_S2[['User_Id', 'Datetime', 'slot', 'loyalty_points']]\n",
    "\n",
    "grouped_26th_October_Slot_S2 = _26th_October_Slot_S2.groupby(['User_Id', 'slot'])['loyalty_points'].sum().reset_index()\n",
    "\n",
    "sorted_26th_October_Slot_S2= grouped_26th_October_Slot_S2.sort_values(by='loyalty_points', ascending=False)\n",
    "\n",
    "sorted_26th_October_Slot_S2.head(5)"
   ]
  },
  {
   "cell_type": "code",
   "execution_count": 55,
   "id": "127e8bb0-4c01-4f14-a229-2f4642844d3e",
   "metadata": {},
   "outputs": [
    {
     "data": {
      "image/png": "[encoded data removed]",
      "text/plain": [
       "<Figure size 400x400 with 1 Axes>"
      ]
     },
     "metadata": {},
     "output_type": "display_data"
    }
   ],
   "source": [
    "def _26th_October_Slot_S2(data: pd.DataFrame, palette='husl'):\n",
    "    user_loyalty_points = data.groupby('User_Id')['loyalty_points'].sum()\n",
    "    top_5_users = user_loyalty_points.nlargest(5)\n",
    "    top_5_data = data[data['User_Id'].isin(top_5_users.index)]\n",
    "    plt.figure(figsize=(4, 4))\n",
    "    sns.barplot(x='User_Id', y='loyalty_points', data=top_5_data, palette=palette, estimator=sum)\n",
    "    plt.title('Top 5 Users with Most Loyalty Points on 26th October Slot S2', y=1)\n",
    "    plt.xlabel('User_Id')\n",
    "    plt.ylabel('Total Loyalty Points')\n",
    "    plt.show()\n",
    "_26th_October_Slot_S2(sorted_26th_October_Slot_S2)"
   ]
  },
  {
   "cell_type": "markdown",
   "id": "54ed9ded-f9b0-4902-bc40-89254d1b0bb9",
   "metadata": {},
   "source": [
    "### 2. Calculating overall loyalty points earned and ranking players on the basis of loyalty points in the month of October. \n",
    "In case of tie, number of games played should be taken as the next criteria for ranking."
   ]
  },
  {
   "cell_type": "code",
   "execution_count": 57,
   "id": "b67d2431-49f4-40b8-91a7-0ee4fa866759",
   "metadata": {
    "scrolled": true
   },
   "outputs": [
    {
     "data": {
      "text/html": [
       "<div>\n",
       "<style scoped>\n",
       "    .dataframe tbody tr th:only-of-type {\n",
       "        vertical-align: middle;\n",
       "    }\n",
       "\n",
       "    .dataframe tbody tr th {\n",
       "        vertical-align: top;\n",
       "    }\n",
       "\n",
       "    .dataframe thead th {\n",
       "        text-align: right;\n",
       "    }\n",
       "</style>\n",
       "<table border=\"1\" class=\"dataframe\">\n",
       "  <thead>\n",
       "    <tr style=\"text-align: right;\">\n",
       "      <th></th>\n",
       "      <th>User_Id</th>\n",
       "      <th>total_loyalty_points</th>\n",
       "      <th>games_played</th>\n",
       "      <th>rank</th>\n",
       "    </tr>\n",
       "  </thead>\n",
       "  <tbody>\n",
       "    <tr>\n",
       "      <th>0</th>\n",
       "      <td>740</td>\n",
       "      <td>41405.517</td>\n",
       "      <td>91</td>\n",
       "      <td>1</td>\n",
       "    </tr>\n",
       "    <tr>\n",
       "      <th>1</th>\n",
       "      <td>352</td>\n",
       "      <td>34328.380</td>\n",
       "      <td>128</td>\n",
       "      <td>2</td>\n",
       "    </tr>\n",
       "    <tr>\n",
       "      <th>2</th>\n",
       "      <td>566</td>\n",
       "      <td>33291.851</td>\n",
       "      <td>53</td>\n",
       "      <td>3</td>\n",
       "    </tr>\n",
       "    <tr>\n",
       "      <th>3</th>\n",
       "      <td>672</td>\n",
       "      <td>29358.051</td>\n",
       "      <td>35</td>\n",
       "      <td>4</td>\n",
       "    </tr>\n",
       "    <tr>\n",
       "      <th>4</th>\n",
       "      <td>30</td>\n",
       "      <td>25110.093</td>\n",
       "      <td>51</td>\n",
       "      <td>5</td>\n",
       "    </tr>\n",
       "    <tr>\n",
       "      <th>...</th>\n",
       "      <td>...</td>\n",
       "      <td>...</td>\n",
       "      <td>...</td>\n",
       "      <td>...</td>\n",
       "    </tr>\n",
       "    <tr>\n",
       "      <th>910</th>\n",
       "      <td>172</td>\n",
       "      <td>4.004</td>\n",
       "      <td>4</td>\n",
       "      <td>911</td>\n",
       "    </tr>\n",
       "    <tr>\n",
       "      <th>911</th>\n",
       "      <td>98</td>\n",
       "      <td>3.001</td>\n",
       "      <td>1</td>\n",
       "      <td>912</td>\n",
       "    </tr>\n",
       "    <tr>\n",
       "      <th>912</th>\n",
       "      <td>188</td>\n",
       "      <td>3.001</td>\n",
       "      <td>1</td>\n",
       "      <td>913</td>\n",
       "    </tr>\n",
       "    <tr>\n",
       "      <th>913</th>\n",
       "      <td>912</td>\n",
       "      <td>2.505</td>\n",
       "      <td>5</td>\n",
       "      <td>914</td>\n",
       "    </tr>\n",
       "    <tr>\n",
       "      <th>914</th>\n",
       "      <td>387</td>\n",
       "      <td>2.501</td>\n",
       "      <td>1</td>\n",
       "      <td>915</td>\n",
       "    </tr>\n",
       "  </tbody>\n",
       "</table>\n",
       "<p>915 rows × 4 columns</p>\n",
       "</div>"
      ],
      "text/plain": [
       "     User_Id  total_loyalty_points  games_played  rank\n",
       "0        740             41405.517            91     1\n",
       "1        352             34328.380           128     2\n",
       "2        566             33291.851            53     3\n",
       "3        672             29358.051            35     4\n",
       "4         30             25110.093            51     5\n",
       "..       ...                   ...           ...   ...\n",
       "910      172                 4.004             4   911\n",
       "911       98                 3.001             1   912\n",
       "912      188                 3.001             1   913\n",
       "913      912                 2.505             5   914\n",
       "914      387                 2.501             1   915\n",
       "\n",
       "[915 rows x 4 columns]"
      ]
     },
     "execution_count": 57,
     "metadata": {},
     "output_type": "execute_result"
    }
   ],
   "source": [
    "player_stats = LP.groupby('User_Id').agg(\n",
    "    total_loyalty_points=('loyalty_points', 'sum'),\n",
    "    games_played=('User_Id', 'size')\n",
    ").reset_index()\n",
    "\n",
    "player_stats_sorted = player_stats.sort_values(\n",
    "    by=['total_loyalty_points', 'games_played'],\n",
    "    ascending=[False, False] \n",
    ").reset_index(drop=True)\n",
    "\n",
    "player_stats_sorted['rank'] = player_stats_sorted.index + 1\n",
    "\n",
    "player_stats_sorted[['User_Id', 'total_loyalty_points', 'games_played', 'rank']]"
   ]
  },
  {
   "cell_type": "code",
   "execution_count": 58,
   "id": "1b6d2bff-8b1a-45d4-a734-5568a58c0e1d",
   "metadata": {},
   "outputs": [
    {
     "data": {
      "image/png": "[encoded data removed]",
      "text/plain": [
       "<Figure size 400x400 with 1 Axes>"
      ]
     },
     "metadata": {},
     "output_type": "display_data"
    }
   ],
   "source": [
    "def _loyalty_points(data: pd.DataFrame, palette='husl'):\n",
    "    _top_3_users = player_stats_sorted.sort_values(by='rank').head(3)\n",
    "    plt.figure(figsize=(4, 4))\n",
    "    sns.barplot(x='User_Id', y='total_loyalty_points', data=_top_3_users, palette=palette)\n",
    "    plt.title('Top 3 Users with Total Loyalty Points', fontsize=16)\n",
    "    plt.xlabel('User Id')\n",
    "    plt.ylabel('Total Loyalty Points')\n",
    "    plt.show()\n",
    "_loyalty_points(player_stats_sorted)"
   ]
  },
  {
   "cell_type": "markdown",
   "id": "0566ff3e-d6ab-4b0f-aa85-153f7b6a929b",
   "metadata": {},
   "source": [
    "### 3. What is the average deposit amount?"
   ]
  },
  {
   "cell_type": "code",
   "execution_count": 60,
   "id": "fe93baee-e9fb-4652-afea-9481b120b8a1",
   "metadata": {},
   "outputs": [
    {
     "data": {
      "text/html": [
       "<div>\n",
       "<style scoped>\n",
       "    .dataframe tbody tr th:only-of-type {\n",
       "        vertical-align: middle;\n",
       "    }\n",
       "\n",
       "    .dataframe tbody tr th {\n",
       "        vertical-align: top;\n",
       "    }\n",
       "\n",
       "    .dataframe thead th {\n",
       "        text-align: right;\n",
       "    }\n",
       "</style>\n",
       "<table border=\"1\" class=\"dataframe\">\n",
       "  <thead>\n",
       "    <tr style=\"text-align: right;\">\n",
       "      <th></th>\n",
       "      <th>User_Id</th>\n",
       "      <th>Amount</th>\n",
       "      <th>Datetime</th>\n",
       "      <th>slot</th>\n",
       "      <th>total_deposit</th>\n",
       "      <th>deposit_count</th>\n",
       "    </tr>\n",
       "  </thead>\n",
       "  <tbody>\n",
       "    <tr>\n",
       "      <th>0</th>\n",
       "      <td>357</td>\n",
       "      <td>2000</td>\n",
       "      <td>2022-10-01 00:03:00</td>\n",
       "      <td>S1</td>\n",
       "      <td>2000</td>\n",
       "      <td>1</td>\n",
       "    </tr>\n",
       "    <tr>\n",
       "      <th>1</th>\n",
       "      <td>776</td>\n",
       "      <td>2500</td>\n",
       "      <td>2022-10-01 00:03:00</td>\n",
       "      <td>S1</td>\n",
       "      <td>8500</td>\n",
       "      <td>2</td>\n",
       "    </tr>\n",
       "    <tr>\n",
       "      <th>2</th>\n",
       "      <td>492</td>\n",
       "      <td>5000</td>\n",
       "      <td>2022-10-01 00:06:00</td>\n",
       "      <td>S1</td>\n",
       "      <td>5000</td>\n",
       "      <td>1</td>\n",
       "    </tr>\n",
       "    <tr>\n",
       "      <th>3</th>\n",
       "      <td>803</td>\n",
       "      <td>5000</td>\n",
       "      <td>2022-10-01 00:07:00</td>\n",
       "      <td>S1</td>\n",
       "      <td>5000</td>\n",
       "      <td>1</td>\n",
       "    </tr>\n",
       "    <tr>\n",
       "      <th>4</th>\n",
       "      <td>875</td>\n",
       "      <td>1500</td>\n",
       "      <td>2022-10-01 00:09:00</td>\n",
       "      <td>S1</td>\n",
       "      <td>1500</td>\n",
       "      <td>1</td>\n",
       "    </tr>\n",
       "  </tbody>\n",
       "</table>\n",
       "</div>"
      ],
      "text/plain": [
       "   User_Id  Amount            Datetime slot  total_deposit  deposit_count\n",
       "0      357    2000 2022-10-01 00:03:00   S1           2000              1\n",
       "1      776    2500 2022-10-01 00:03:00   S1           8500              2\n",
       "2      492    5000 2022-10-01 00:06:00   S1           5000              1\n",
       "3      803    5000 2022-10-01 00:07:00   S1           5000              1\n",
       "4      875    1500 2022-10-01 00:09:00   S1           1500              1"
      ]
     },
     "execution_count": 60,
     "metadata": {},
     "output_type": "execute_result"
    }
   ],
   "source": [
    "DP.head(5)"
   ]
  },
  {
   "cell_type": "code",
   "execution_count": 61,
   "id": "8bbed044-d99a-48f9-8180-87becd84f4a5",
   "metadata": {},
   "outputs": [
    {
     "data": {
      "text/plain": [
       "5492.4716407638925"
      ]
     },
     "execution_count": 61,
     "metadata": {},
     "output_type": "execute_result"
    }
   ],
   "source": [
    "average_deposit_amount = DP['Amount'].mean()\n",
    "average_deposit_amount\n"
   ]
  },
  {
   "cell_type": "markdown",
   "id": "a58c2798-090a-4988-aec8-15451cd3ed45",
   "metadata": {},
   "source": [
    "### 4. What is the average deposit amount per user in a month?"
   ]
  },
  {
   "cell_type": "code",
   "execution_count": 63,
   "id": "370094b9-3dd2-4860-b78f-0affb4215d40",
   "metadata": {
    "scrolled": true
   },
   "outputs": [
    {
     "data": {
      "text/html": [
       "<div>\n",
       "<style scoped>\n",
       "    .dataframe tbody tr th:only-of-type {\n",
       "        vertical-align: middle;\n",
       "    }\n",
       "\n",
       "    .dataframe tbody tr th {\n",
       "        vertical-align: top;\n",
       "    }\n",
       "\n",
       "    .dataframe thead th {\n",
       "        text-align: right;\n",
       "    }\n",
       "</style>\n",
       "<table border=\"1\" class=\"dataframe\">\n",
       "  <thead>\n",
       "    <tr style=\"text-align: right;\">\n",
       "      <th></th>\n",
       "      <th>User_Id</th>\n",
       "      <th>total_deposit</th>\n",
       "      <th>days_active</th>\n",
       "      <th>avg_deposit_per_user</th>\n",
       "    </tr>\n",
       "  </thead>\n",
       "  <tbody>\n",
       "    <tr>\n",
       "      <th>0</th>\n",
       "      <td>1</td>\n",
       "      <td>5000</td>\n",
       "      <td>1</td>\n",
       "      <td>5000.00</td>\n",
       "    </tr>\n",
       "    <tr>\n",
       "      <th>1</th>\n",
       "      <td>2</td>\n",
       "      <td>567000</td>\n",
       "      <td>20</td>\n",
       "      <td>28350.00</td>\n",
       "    </tr>\n",
       "    <tr>\n",
       "      <th>2</th>\n",
       "      <td>3</td>\n",
       "      <td>40000</td>\n",
       "      <td>4</td>\n",
       "      <td>10000.00</td>\n",
       "    </tr>\n",
       "    <tr>\n",
       "      <th>3</th>\n",
       "      <td>4</td>\n",
       "      <td>1750</td>\n",
       "      <td>1</td>\n",
       "      <td>1750.00</td>\n",
       "    </tr>\n",
       "    <tr>\n",
       "      <th>4</th>\n",
       "      <td>5</td>\n",
       "      <td>74100</td>\n",
       "      <td>67</td>\n",
       "      <td>1105.97</td>\n",
       "    </tr>\n",
       "    <tr>\n",
       "      <th>...</th>\n",
       "      <td>...</td>\n",
       "      <td>...</td>\n",
       "      <td>...</td>\n",
       "      <td>...</td>\n",
       "    </tr>\n",
       "    <tr>\n",
       "      <th>910</th>\n",
       "      <td>994</td>\n",
       "      <td>1400</td>\n",
       "      <td>1</td>\n",
       "      <td>1400.00</td>\n",
       "    </tr>\n",
       "    <tr>\n",
       "      <th>911</th>\n",
       "      <td>995</td>\n",
       "      <td>34500</td>\n",
       "      <td>5</td>\n",
       "      <td>6900.00</td>\n",
       "    </tr>\n",
       "    <tr>\n",
       "      <th>912</th>\n",
       "      <td>996</td>\n",
       "      <td>96400</td>\n",
       "      <td>31</td>\n",
       "      <td>3109.68</td>\n",
       "    </tr>\n",
       "    <tr>\n",
       "      <th>913</th>\n",
       "      <td>998</td>\n",
       "      <td>7400</td>\n",
       "      <td>5</td>\n",
       "      <td>1480.00</td>\n",
       "    </tr>\n",
       "    <tr>\n",
       "      <th>914</th>\n",
       "      <td>999</td>\n",
       "      <td>9000</td>\n",
       "      <td>3</td>\n",
       "      <td>3000.00</td>\n",
       "    </tr>\n",
       "  </tbody>\n",
       "</table>\n",
       "<p>915 rows × 4 columns</p>\n",
       "</div>"
      ],
      "text/plain": [
       "     User_Id  total_deposit  days_active  avg_deposit_per_user\n",
       "0          1           5000            1               5000.00\n",
       "1          2         567000           20              28350.00\n",
       "2          3          40000            4              10000.00\n",
       "3          4           1750            1               1750.00\n",
       "4          5          74100           67               1105.97\n",
       "..       ...            ...          ...                   ...\n",
       "910      994           1400            1               1400.00\n",
       "911      995          34500            5               6900.00\n",
       "912      996          96400           31               3109.68\n",
       "913      998           7400            5               1480.00\n",
       "914      999           9000            3               3000.00\n",
       "\n",
       "[915 rows x 4 columns]"
      ]
     },
     "execution_count": 63,
     "metadata": {},
     "output_type": "execute_result"
    }
   ],
   "source": [
    "user_deposits = DP.groupby('User_Id').agg(\n",
    "    total_deposit=('Amount', 'sum'),\n",
    "    days_active=('Datetime', 'nunique')\n",
    ").reset_index()\n",
    "\n",
    "user_deposits['avg_deposit_per_user'] = user_deposits['total_deposit'] / user_deposits['days_active']\n",
    "\n",
    "user_deposits['avg_deposit_per_user'] = user_deposits['avg_deposit_per_user'].round(2)\n",
    "\n",
    "user_deposits[['User_Id', 'total_deposit', 'days_active', 'avg_deposit_per_user']]"
   ]
  },
  {
   "cell_type": "markdown",
   "id": "e72406e7-f35a-49fe-927e-b8d86351da15",
   "metadata": {},
   "source": [
    "### 5. What is the average number of games played per user?"
   ]
  },
  {
   "cell_type": "code",
   "execution_count": 65,
   "id": "8a21e931-3dd7-485b-943c-b59e0b05bfcd",
   "metadata": {},
   "outputs": [
    {
     "data": {
      "text/html": [
       "<div>\n",
       "<style scoped>\n",
       "    .dataframe tbody tr th:only-of-type {\n",
       "        vertical-align: middle;\n",
       "    }\n",
       "\n",
       "    .dataframe tbody tr th {\n",
       "        vertical-align: top;\n",
       "    }\n",
       "\n",
       "    .dataframe thead th {\n",
       "        text-align: right;\n",
       "    }\n",
       "</style>\n",
       "<table border=\"1\" class=\"dataframe\">\n",
       "  <thead>\n",
       "    <tr style=\"text-align: right;\">\n",
       "      <th></th>\n",
       "      <th>User_Id</th>\n",
       "      <th>Games_Played</th>\n",
       "      <th>Datetime</th>\n",
       "      <th>slot</th>\n",
       "      <th>total_game_played</th>\n",
       "    </tr>\n",
       "  </thead>\n",
       "  <tbody>\n",
       "    <tr>\n",
       "      <th>0</th>\n",
       "      <td>851</td>\n",
       "      <td>1</td>\n",
       "      <td>2022-10-01</td>\n",
       "      <td>S1</td>\n",
       "      <td>17</td>\n",
       "    </tr>\n",
       "    <tr>\n",
       "      <th>1</th>\n",
       "      <td>717</td>\n",
       "      <td>1</td>\n",
       "      <td>2022-10-01</td>\n",
       "      <td>S1</td>\n",
       "      <td>7</td>\n",
       "    </tr>\n",
       "    <tr>\n",
       "      <th>2</th>\n",
       "      <td>456</td>\n",
       "      <td>1</td>\n",
       "      <td>2022-10-01</td>\n",
       "      <td>S1</td>\n",
       "      <td>85</td>\n",
       "    </tr>\n",
       "    <tr>\n",
       "      <th>3</th>\n",
       "      <td>424</td>\n",
       "      <td>1</td>\n",
       "      <td>2022-10-01</td>\n",
       "      <td>S1</td>\n",
       "      <td>8</td>\n",
       "    </tr>\n",
       "    <tr>\n",
       "      <th>4</th>\n",
       "      <td>845</td>\n",
       "      <td>1</td>\n",
       "      <td>2022-10-01</td>\n",
       "      <td>S1</td>\n",
       "      <td>22</td>\n",
       "    </tr>\n",
       "  </tbody>\n",
       "</table>\n",
       "</div>"
      ],
      "text/plain": [
       "   User_Id  Games_Played   Datetime slot  total_game_played\n",
       "0      851             1 2022-10-01   S1                 17\n",
       "1      717             1 2022-10-01   S1                  7\n",
       "2      456             1 2022-10-01   S1                 85\n",
       "3      424             1 2022-10-01   S1                  8\n",
       "4      845             1 2022-10-01   S1                 22"
      ]
     },
     "execution_count": 65,
     "metadata": {},
     "output_type": "execute_result"
    }
   ],
   "source": [
    "GM.head(5)"
   ]
  },
  {
   "cell_type": "code",
   "execution_count": 66,
   "id": "29b8fe52-b30a-4232-b9e2-f15c589c2bd3",
   "metadata": {},
   "outputs": [
    {
     "data": {
      "text/plain": [
       "1.0000028147922966"
      ]
     },
     "execution_count": 66,
     "metadata": {},
     "output_type": "execute_result"
    }
   ],
   "source": [
    "average_games_per_user = GM['Games_Played'].mean()\n",
    "average_games_per_user"
   ]
  },
  {
   "cell_type": "markdown",
   "id": "b45d8f24-e41b-402c-beca-24cc46bab1c6",
   "metadata": {},
   "source": [
    "## Part B - How much bonus should be allocated to leaderboard players?\n",
    "\n",
    "After calculating the loyalty points for the whole month find out which 50 players are at the top of the leaderboard. The company has allocated a pool of Rs 50000 to be given away as bonus money to the loyal players.\n",
    "\n",
    "Now the company needs to determine how much bonus money should be given to the players.\n",
    "\n",
    "Should they base it on the amount of loyalty points? Should it be based on number of games? Or something else?"
   ]
  },
  {
   "cell_type": "code",
   "execution_count": 68,
   "id": "e591d635-7749-485c-bad2-0066372e0aa5",
   "metadata": {},
   "outputs": [
    {
     "data": {
      "text/html": [
       "<div>\n",
       "<style scoped>\n",
       "    .dataframe tbody tr th:only-of-type {\n",
       "        vertical-align: middle;\n",
       "    }\n",
       "\n",
       "    .dataframe tbody tr th {\n",
       "        vertical-align: top;\n",
       "    }\n",
       "\n",
       "    .dataframe thead th {\n",
       "        text-align: right;\n",
       "    }\n",
       "</style>\n",
       "<table border=\"1\" class=\"dataframe\">\n",
       "  <thead>\n",
       "    <tr style=\"text-align: right;\">\n",
       "      <th></th>\n",
       "      <th>User_Id</th>\n",
       "      <th>total_loyalty_points</th>\n",
       "      <th>games_played</th>\n",
       "      <th>rank</th>\n",
       "    </tr>\n",
       "  </thead>\n",
       "  <tbody>\n",
       "    <tr>\n",
       "      <th>0</th>\n",
       "      <td>740</td>\n",
       "      <td>41405.517</td>\n",
       "      <td>91</td>\n",
       "      <td>1</td>\n",
       "    </tr>\n",
       "    <tr>\n",
       "      <th>1</th>\n",
       "      <td>352</td>\n",
       "      <td>34328.380</td>\n",
       "      <td>128</td>\n",
       "      <td>2</td>\n",
       "    </tr>\n",
       "    <tr>\n",
       "      <th>2</th>\n",
       "      <td>566</td>\n",
       "      <td>33291.851</td>\n",
       "      <td>53</td>\n",
       "      <td>3</td>\n",
       "    </tr>\n",
       "    <tr>\n",
       "      <th>3</th>\n",
       "      <td>672</td>\n",
       "      <td>29358.051</td>\n",
       "      <td>35</td>\n",
       "      <td>4</td>\n",
       "    </tr>\n",
       "    <tr>\n",
       "      <th>4</th>\n",
       "      <td>30</td>\n",
       "      <td>25110.093</td>\n",
       "      <td>51</td>\n",
       "      <td>5</td>\n",
       "    </tr>\n",
       "  </tbody>\n",
       "</table>\n",
       "</div>"
      ],
      "text/plain": [
       "   User_Id  total_loyalty_points  games_played  rank\n",
       "0      740             41405.517            91     1\n",
       "1      352             34328.380           128     2\n",
       "2      566             33291.851            53     3\n",
       "3      672             29358.051            35     4\n",
       "4       30             25110.093            51     5"
      ]
     },
     "execution_count": 68,
     "metadata": {},
     "output_type": "execute_result"
    }
   ],
   "source": [
    "PS = pd.DataFrame(player_stats_sorted[['User_Id', 'total_loyalty_points', 'games_played', 'rank']])\n",
    "PS.head(5)"
   ]
  },
  {
   "cell_type": "markdown",
   "id": "07714154-04a7-492a-b656-6b41bd2fd1ef",
   "metadata": {},
   "source": [
    "Suggested Bonus Allocation Formula:\r\n",
    "Calculate a Weighted Score for Each Player: Combine both loyalty points and the number of games played into a single metric, so we can rank the players more fairly:\n",
    "\n",
    "\r\n",
    "Weighted Score=α×Loyalty Points+β×Games Played\r\n",
    "Where:\r\n",
    "\r\n",
    "α and β are weights that control the relative importance of loyalty points versus the number of games played. We can choose values like α=0.7 and β=0.3 to prioritize loyalty points more heavily but still acknowledge frequent play.\r\n",
    "Rank the Players by Weighted Score: After calculating the weighted score, rank the players from highest to lowest.\r\n",
    "\r\n",
    "Allocate the Bonus Based on Rank: Distribute the Rs 50,000 pool across the top 50 players based on their rank. One way to do this is to use a proportional distribution:\r\n",
    "\r\n",
    "Bonus for Weighted Score for Player i / Player i= \r\n",
    "Total Weighted Score of To ×50,000p i\r\n",
    "​\r\n",
    " ×50,000\r\n",
    "This way, players with higher scores (more loyalty points and/or more games played) will receive a larger share of the bonus pool."
   ]
  },
  {
   "cell_type": "code",
   "execution_count": 70,
   "id": "18a2de79-5a07-496e-aa83-2714b528b12d",
   "metadata": {},
   "outputs": [
    {
     "data": {
      "text/html": [
       "<div>\n",
       "<style scoped>\n",
       "    .dataframe tbody tr th:only-of-type {\n",
       "        vertical-align: middle;\n",
       "    }\n",
       "\n",
       "    .dataframe tbody tr th {\n",
       "        vertical-align: top;\n",
       "    }\n",
       "\n",
       "    .dataframe thead th {\n",
       "        text-align: right;\n",
       "    }\n",
       "</style>\n",
       "<table border=\"1\" class=\"dataframe\">\n",
       "  <thead>\n",
       "    <tr style=\"text-align: right;\">\n",
       "      <th></th>\n",
       "      <th>User_Id</th>\n",
       "      <th>total_loyalty_points</th>\n",
       "      <th>games_played</th>\n",
       "      <th>weighted_score</th>\n",
       "      <th>rank</th>\n",
       "      <th>bonus</th>\n",
       "    </tr>\n",
       "  </thead>\n",
       "  <tbody>\n",
       "    <tr>\n",
       "      <th>0</th>\n",
       "      <td>740</td>\n",
       "      <td>41405.517</td>\n",
       "      <td>91</td>\n",
       "      <td>29011.1619</td>\n",
       "      <td>1</td>\n",
       "      <td>2756.96</td>\n",
       "    </tr>\n",
       "    <tr>\n",
       "      <th>1</th>\n",
       "      <td>352</td>\n",
       "      <td>34328.380</td>\n",
       "      <td>128</td>\n",
       "      <td>24068.2660</td>\n",
       "      <td>2</td>\n",
       "      <td>2287.23</td>\n",
       "    </tr>\n",
       "    <tr>\n",
       "      <th>2</th>\n",
       "      <td>566</td>\n",
       "      <td>33291.851</td>\n",
       "      <td>53</td>\n",
       "      <td>23320.1957</td>\n",
       "      <td>3</td>\n",
       "      <td>2216.14</td>\n",
       "    </tr>\n",
       "  </tbody>\n",
       "</table>\n",
       "</div>"
      ],
      "text/plain": [
       "   User_Id  total_loyalty_points  games_played  weighted_score  rank    bonus\n",
       "0      740             41405.517            91      29011.1619     1  2756.96\n",
       "1      352             34328.380           128      24068.2660     2  2287.23\n",
       "2      566             33291.851            53      23320.1957     3  2216.14"
      ]
     },
     "execution_count": 70,
     "metadata": {},
     "output_type": "execute_result"
    }
   ],
   "source": [
    "A = 0.7\n",
    "B = 0.3\n",
    "\n",
    "PS['weighted_score'] = A * PS['total_loyalty_points'] + B * PS['games_played']\n",
    "\n",
    "top_players = PS[PS['rank'] <= 50]\n",
    "\n",
    "total_weighted_score = top_players['weighted_score'].sum()\n",
    "\n",
    "top_players['bonus'] = (top_players['weighted_score'] / total_weighted_score) * 50000\n",
    "\n",
    "top_players['bonus'] = top_players['bonus'].round(2)\n",
    "\n",
    "top_players[['User_Id', 'total_loyalty_points', 'games_played', 'weighted_score', 'rank', 'bonus']].head(3)"
   ]
  },
  {
   "cell_type": "code",
   "execution_count": 71,
   "id": "3336c44e-10da-4b90-9fb1-2ca05d866406",
   "metadata": {
    "scrolled": true
   },
   "outputs": [
    {
     "data": {
      "image/png": "[encoded data removed]",
      "text/plain": [
       "<Figure size 400x400 with 1 Axes>"
      ]
     },
     "metadata": {},
     "output_type": "display_data"
    }
   ],
   "source": [
    "def _bonus(data: pd.DataFrame, palette='husl'):\n",
    "    _top_3_bonus = top_players.sort_values(by='rank').head(3)\n",
    "    plt.figure(figsize=(4, 4))\n",
    "    sns.barplot(x='User_Id', y='bonus', data=_top_3_bonus, palette=palette)\n",
    "    plt.title('Top 3 Users with bonus', fontsize=16)\n",
    "    plt.xlabel('User Id')\n",
    "    plt.ylabel('bonus')\n",
    "    plt.show()\n",
    "_bonus(top_players)"
   ]
  },
  {
   "cell_type": "markdown",
   "id": "60026768-4336-47dc-a6c0-bdc0f61e80f4",
   "metadata": {},
   "source": [
    "## Thank you"
   ]
  },
  {
   "cell_type": "markdown",
   "id": "b11c1628-9168-4a24-b89c-fb5a38132578",
   "metadata": {},
   "source": [
    "# By Rishav Anand"
   ]
  },
  {
   "cell_type": "code",
   "execution_count": null,
   "id": "86a44cf4-c296-4128-9bab-dbbf93e95e10",
   "metadata": {},
   "outputs": [],
   "source": []
  }
 ],
 "metadata": {
  "kernelspec": {
   "display_name": "Python 3 (ipykernel)",
   "language": "python",
   "name": "python3"
  },
  "language_info": {
   "codemirror_mode": {
    "name": "ipython",
    "version": 3
   },
   "file_extension": ".py",
   "mimetype": "text/x-python",
   "name": "python",
   "nbconvert_exporter": "python",
   "pygments_lexer": "ipython3",
   "version": "3.11.7"
  }
 },
 "nbformat": 4,
 "nbformat_minor": 5
}
